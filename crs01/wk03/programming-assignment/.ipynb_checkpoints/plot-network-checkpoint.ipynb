{
 "cells": [
  {
   "cell_type": "markdown",
   "metadata": {},
   "source": [
    "# University of Illinois Data Mining Specialization\n",
    "## Course 01: Data Visualization\n",
    "*2018-05-07 to 2018-05-13 - Week 03*\n",
    "\n",
    "### Programming Assignment\n",
    "\n",
    "Find some network data that you think is suitable and that you would like to visualize. Here are some sites that provide links to a wide variety of different graph/network datasets:\n",
    "\n",
    "* [Stanford Large Network Dataset Collection](http://snap.stanford.edu/data/index.html)\n",
    "* [UCI Network Data Repository](https://networkdata.ics.uci.edu/)\n",
    "\n",
    "Choose a visualization platform and parse the data into a format suitable for the tools you will use. You must upload an image of your visualization for peer evaluation.\n",
    "\n",
    "In addition to your visualization, please include a paragraph that helps explain your submission. A few questions that your paragraph could answer include:\n",
    "\n",
    "* What is the data set that you chose? Why?\n",
    "* Did you use a subset of the data? If so, what was it?\n",
    "* Are there any particular aspects of your visualization to which you would like to bring attention?\n",
    "* What do you think the data and your visualization show?\n",
    "\n",
    "#### Grading Rubric\n",
    "\n",
    "| Criteria | Poor (1–2 points) | Fair (3 points) | Good (4 points) | Great (5 points) |\n",
    "| --- | --- | --- | --- | --- | --- |\n",
    "| *Proximate Layout*<sup>1</sup> | Relationship between items cannot be discerned because of poor layout. | Major problems with the layout, leading to many long edges and/or overlaps that distract from the data. | Minor problems with the layout, resulting in long edges or unnecessary overlaps in objects or edges. | Related items are placed near each other and intersections of visualization elements are not unnecessarily distracting. |\n",
    "| *Design of the Chart*<sup>2</sup> | Relationship between items cannot be discerned because of poor element and/or design choices. | Major problems with some elements and/or design choices that interfere with the display of the data. | Minor problems with some elements and/or design choices that distract from the display of the data. | Visualization effectively uses elements and design to display the data.|\n",
    "| *Contest*<sup>3</sup> | Misleading | Boring | Not boring | Interesting |\n",
    "\n",
    "<sup>1</sup>How well are related items placed near each other? Do the edges cross or do items overlap when perhaps they do not need to? Are the crossings distracting?\n",
    "<br><sup>2</sup>Does the visualization effectively utilize the assignment of variables to elements and design of a visualization described in Week 2?\n",
    "<br><sup>3</sup>How interesting is the result? Does this represent an interesting choice of data and/or an interesting way to display the data?"
   ]
  },
  {
   "cell_type": "code",
   "execution_count": 1,
   "metadata": {},
   "outputs": [
    {
     "data": {
      "text/html": [
       "<script>requirejs.config({paths: { 'plotly': ['https://cdn.plot.ly/plotly-latest.min']},});if(!window.Plotly) {{require(['plotly'],function(plotly) {window.Plotly=plotly;});}}</script>"
      ],
      "text/vnd.plotly.v1+html": [
       "<script>requirejs.config({paths: { 'plotly': ['https://cdn.plot.ly/plotly-latest.min']},});if(!window.Plotly) {{require(['plotly'],function(plotly) {window.Plotly=plotly;});}}</script>"
      ]
     },
     "metadata": {},
     "output_type": "display_data"
    }
   ],
   "source": [
    "# Imports\n",
    "import pandas as pd\n",
    "from plotly.offline import download_plotlyjs, init_notebook_mode, plot, iplot\n",
    "import plotly.graph_objs as go\n",
    "import networkx as nx\n",
    "\n",
    "# Set Plotly to display in notebook\n",
    "init_notebook_mode(connected=True)"
   ]
  },
  {
   "cell_type": "markdown",
   "metadata": {},
   "source": [
    "#### Plot Math Overflow Comments to Answers"
   ]
  },
  {
   "cell_type": "code",
   "execution_count": 2,
   "metadata": {},
   "outputs": [],
   "source": [
    "# Load data and inspect"
   ]
  }
 ],
 "metadata": {
  "kernelspec": {
   "display_name": "Python [default]",
   "language": "python",
   "name": "python3"
  },
  "language_info": {
   "codemirror_mode": {
    "name": "ipython",
    "version": 3
   },
   "file_extension": ".py",
   "mimetype": "text/x-python",
   "name": "python",
   "nbconvert_exporter": "python",
   "pygments_lexer": "ipython3",
   "version": "3.6.5"
  }
 },
 "nbformat": 4,
 "nbformat_minor": 2
}
