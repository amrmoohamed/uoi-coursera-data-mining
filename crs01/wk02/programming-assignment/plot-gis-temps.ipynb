{
 "cells": [
  {
   "cell_type": "markdown",
   "metadata": {},
   "source": [
    "# University of Illinois Data Mining Specialization\n",
    "## Course 01: Data Visualization\n",
    "*2018-04-30 to 2018-05-06 - Week 02*\n",
    "\n",
    "### Programming Assignment\n",
    "\n",
    "1. Take the data from the [GISTEMP site](gis-temperatures), specifically the data from “Table Data: Global and Hemispheric Monthly Means and Zonal Annual Means.”\n",
    "2. Parse the data to a suitable format for the tools that you are using\n",
    "    1. Course provided two files (in JS, TXT, and CSV formats)\n",
    "    2. Subset of the data on the GISTEMP site\n",
    "3. Visualize the data to meet the requirements of the [Programming Assignment 1 Rubric](#grading-rubric)\n",
    "\n",
    "#### Grading Rubric\n",
    "\n",
    "**Design of the Chart:**<br>Does the chart effectively display the data, based on the design rules in lecture 2.3.1?\n",
    "\n",
    "**Contest:**<br>How interesting is the result? Does this represent an interesting choice of data and/or an interesting way to display the data? For example, was a streamgraph used instead of an ordinary bar chart?\n",
    "\n",
    "| Criteria | Poor (1–2 points) | Fair (3 points) | Good (4 points) | Great (5 points) |\n",
    "| :--- | :--- | :--- | :--- | :--- | :--- |\n",
    "| *Appropriate Chart Selection and Variables* | Chart is indecipherable or significantly misleading because of poor chart type or assignment of variables to elements | Major problem(s) with chart selection or assignment of elements to variables | Minor problem(s) with chart selection or assignment of elements to variables | Chart selection is appropriate for data and its elements properly assigned to appropriate data variables |\n",
    "| *Design of the Chart* | No apparent attention paid to design | Evidence that several of the design rules should have been followed but were not | Evidence that one of the design rules should have been followed but was not | Attention paid to all design rules |\n",
    "| *Contest* | Misleading | Boring | Not boring | Interesting |\n",
    "\n",
    "<!--Link Aliases-->\n",
    "[gis-temperatures]: http://data.giss.nasa.gov/gistemp/"
   ]
  },
  {
   "cell_type": "code",
   "execution_count": 2,
   "metadata": {},
   "outputs": [
    {
     "ename": "ImportError",
     "evalue": "No module named 'plotly'",
     "output_type": "error",
     "traceback": [
      "\u001b[0;31m---------------------------------------------------------------------------\u001b[0m",
      "\u001b[0;31mImportError\u001b[0m                               Traceback (most recent call last)",
      "\u001b[0;32m<ipython-input-2-a0627d529520>\u001b[0m in \u001b[0;36m<module>\u001b[0;34m()\u001b[0m\n\u001b[1;32m      1\u001b[0m \u001b[0;31m# Imports\u001b[0m\u001b[0;34m\u001b[0m\u001b[0;34m\u001b[0m\u001b[0m\n\u001b[0;32m----> 2\u001b[0;31m \u001b[0;32mimport\u001b[0m \u001b[0mplotly\u001b[0m\u001b[0;34m\u001b[0m\u001b[0m\n\u001b[0m",
      "\u001b[0;31mImportError\u001b[0m: No module named 'plotly'"
     ]
    }
   ],
   "source": [
    "# Imports\n",
    "import plotly"
   ]
  }
 ],
 "metadata": {
  "kernelspec": {
   "display_name": "Python 3",
   "language": "python",
   "name": "python3"
  },
  "language_info": {
   "codemirror_mode": {
    "name": "ipython",
    "version": 3
   },
   "file_extension": ".py",
   "mimetype": "text/x-python",
   "name": "python",
   "nbconvert_exporter": "python",
   "pygments_lexer": "ipython3",
   "version": "3.5.2"
  }
 },
 "nbformat": 4,
 "nbformat_minor": 2
}
