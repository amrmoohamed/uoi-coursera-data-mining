{
 "cells": [
  {
   "cell_type": "markdown",
   "metadata": {},
   "source": [
    "# Univ. of Illinois Data Mining Project on Coursera\n",
    "## Task 00 - Extract Cuisines from Yelp Restaurants\n",
    "2018-09-22\n",
    "loganjtravis@gmail.com (Logan Travis)"
   ]
  },
  {
   "cell_type": "code",
   "execution_count": 1,
   "metadata": {},
   "outputs": [],
   "source": [
    "# Imports\n",
    "import json, os\n",
    "import numpy as np\n",
    "import pandas as pd"
   ]
  },
  {
   "cell_type": "markdown",
   "metadata": {},
   "source": [
    "### Summary\n",
    "\n",
    "Extract all \"cuisines\" for restaurants in the Yelp data set. See course page [Week 1 > Orientation > Data Set and Toolkit Acquisition](https://www.coursera.org/learn/data-mining-project/supplement/Ij7rp/data-set-and-toolkit-acquisition). Unfortunatley, the `yelp_academic_dataset_business.json` data set groups cuisines with other business descriptors in the `categories` feature. Extracted \"cuisines\" therefore include descriptions not normally associated with food..."
   ]
  },
  {
   "cell_type": "markdown",
   "metadata": {},
   "source": [
    "### Get Data Set"
   ]
  },
  {
   "cell_type": "code",
   "execution_count": 2,
   "metadata": {},
   "outputs": [],
   "source": [
    "# Set paths to data source and output\n",
    "PATH_SOURCE = \"source/yelp_dataset_challenge_academic_dataset/\"\n",
    "PATH_OUTPUT = \"source/\"\n",
    "\n",
    "# Set review file path\n",
    "PATH_SOURCE_YELP_BUSINESSES = PATH_SOURCE + \"yelp_academic_dataset_business.json\"\n",
    "\n",
    "# Set ouptput file path (using GZIP compression)\n",
    "PATH_OUTPUT_YELP_CUISINES = PATH_OUTPUT + \"yelp_academic_dataset_cuisine.csv\"\n",
    "PATH_OUTPUT_YELP_REST_TO_CUISINES = PATH_OUTPUT + \"yelp_academic_dataset_restaurant_to_cuisine.pkl.gzip\""
   ]
  },
  {
   "cell_type": "markdown",
   "metadata": {},
   "source": [
    "The Yelp data set did not provide a schema. All files use JSON formatting but the `pandas.read_json` ([link to documentation](https://pandas.pydata.org/pandas-docs/stable/generated/pandas.read_json.html)) requires an `orient` parameter to correctly parse JSON. Here are the first three lines of the review dataset:"
   ]
  },
  {
   "cell_type": "code",
   "execution_count": 3,
   "metadata": {},
   "outputs": [
    {
     "name": "stdout",
     "output_type": "stream",
     "text": [
      "Line 0: {'business_id': 'vcNAWiLM4dR7D2nwwJ7nCA', 'full_address': '4840 E Indian School Rd\\nSte 101\\nPhoenix, AZ 85018', 'hours': {'Tuesday': {'close': '17:00', 'open': '08:00'}, 'Friday': {'close': '17:00', 'open': '08:00'}, 'Monday': {'close': '17:00', 'open': '08:00'}, 'Wednesday': {'close': '17:00', 'open': '08:00'}, 'Thursday': {'close': '17:00', 'open': '08:00'}}, 'open': True, 'categories': ['Doctors', 'Health & Medical'], 'city': 'Phoenix', 'review_count': 7, 'name': 'Eric Goldberg, MD', 'neighborhoods': [], 'longitude': -111.983758, 'state': 'AZ', 'stars': 3.5, 'latitude': 33.499313, 'attributes': {'By Appointment Only': True}, 'type': 'business'}\n",
      "\n",
      "Line 1: {'business_id': 'JwUE5GmEO-sH1FuwJgKBlQ', 'full_address': '6162 US Highway 51\\nDe Forest, WI 53532', 'hours': {}, 'open': True, 'categories': ['Restaurants'], 'city': 'De Forest', 'review_count': 26, 'name': 'Pine Cone Restaurant', 'neighborhoods': [], 'longitude': -89.335844, 'state': 'WI', 'stars': 4.0, 'latitude': 43.238893, 'attributes': {'Take-out': True, 'Good For': {'dessert': False, 'latenight': False, 'lunch': True, 'dinner': False, 'breakfast': False, 'brunch': False}, 'Caters': False, 'Noise Level': 'average', 'Takes Reservations': False, 'Delivery': False, 'Ambience': {'romantic': False, 'intimate': False, 'touristy': False, 'hipster': False, 'divey': False, 'classy': False, 'trendy': False, 'upscale': False, 'casual': False}, 'Parking': {'garage': False, 'street': False, 'validated': False, 'lot': True, 'valet': False}, 'Has TV': True, 'Outdoor Seating': False, 'Attire': 'casual', 'Alcohol': 'none', 'Waiter Service': True, 'Accepts Credit Cards': True, 'Good for Kids': True, 'Good For Groups': True, 'Price Range': 1}, 'type': 'business'}\n",
      "\n",
      "Line 2: {'business_id': 'uGykseHzyS5xAMWoN6YUqA', 'full_address': '505 W North St\\nDe Forest, WI 53532', 'hours': {'Monday': {'close': '22:00', 'open': '06:00'}, 'Tuesday': {'close': '22:00', 'open': '06:00'}, 'Friday': {'close': '22:00', 'open': '06:00'}, 'Wednesday': {'close': '22:00', 'open': '06:00'}, 'Thursday': {'close': '22:00', 'open': '06:00'}, 'Sunday': {'close': '21:00', 'open': '06:00'}, 'Saturday': {'close': '22:00', 'open': '06:00'}}, 'open': True, 'categories': ['American (Traditional)', 'Restaurants'], 'city': 'De Forest', 'review_count': 16, 'name': 'Deforest Family Restaurant', 'neighborhoods': [], 'longitude': -89.353437, 'state': 'WI', 'stars': 4.0, 'latitude': 43.252267, 'attributes': {'Take-out': True, 'Good For': {'dessert': False, 'latenight': False, 'lunch': False, 'dinner': False, 'breakfast': False, 'brunch': True}, 'Caters': False, 'Noise Level': 'quiet', 'Takes Reservations': False, 'Delivery': False, 'Parking': {'garage': False, 'street': False, 'validated': False, 'lot': True, 'valet': False}, 'Has TV': True, 'Outdoor Seating': False, 'Attire': 'casual', 'Ambience': {'romantic': False, 'intimate': False, 'touristy': False, 'hipster': False, 'divey': False, 'classy': False, 'trendy': False, 'upscale': False, 'casual': True}, 'Waiter Service': True, 'Accepts Credit Cards': True, 'Good for Kids': True, 'Good For Groups': True, 'Price Range': 1}, 'type': 'business'}\n",
      "\n"
     ]
    }
   ],
   "source": [
    "# Since the data did not include a schema description, print the first 3 lines\n",
    "with open(PATH_SOURCE_YELP_BUSINESSES) as f:\n",
    "    for i in range(3):\n",
    "        print(f\"Line {i:d}: {json.loads(next(f))}\\n\")"
   ]
  },
  {
   "cell_type": "markdown",
   "metadata": {},
   "source": [
    "Each row is an object and they appear consistent so set `orient` to \"records\" and `lines` to `True`."
   ]
  },
  {
   "cell_type": "code",
   "execution_count": 4,
   "metadata": {},
   "outputs": [],
   "source": [
    "# Load businesses into Pandas dataframe\n",
    "dfYelpBusinesses = pd.read_json(PATH_SOURCE_YELP_BUSINESSES, orient=\"records\", lines=True)"
   ]
  },
  {
   "cell_type": "code",
   "execution_count": 5,
   "metadata": {},
   "outputs": [
    {
     "name": "stdout",
     "output_type": "stream",
     "text": [
      "Shape: (42153, 15)\n"
     ]
    },
    {
     "data": {
      "text/html": [
       "<div>\n",
       "<style scoped>\n",
       "    .dataframe tbody tr th:only-of-type {\n",
       "        vertical-align: middle;\n",
       "    }\n",
       "\n",
       "    .dataframe tbody tr th {\n",
       "        vertical-align: top;\n",
       "    }\n",
       "\n",
       "    .dataframe thead th {\n",
       "        text-align: right;\n",
       "    }\n",
       "</style>\n",
       "<table border=\"1\" class=\"dataframe\">\n",
       "  <thead>\n",
       "    <tr style=\"text-align: right;\">\n",
       "      <th></th>\n",
       "      <th>attributes</th>\n",
       "      <th>business_id</th>\n",
       "      <th>categories</th>\n",
       "      <th>city</th>\n",
       "      <th>full_address</th>\n",
       "      <th>hours</th>\n",
       "      <th>latitude</th>\n",
       "      <th>longitude</th>\n",
       "      <th>name</th>\n",
       "      <th>neighborhoods</th>\n",
       "      <th>open</th>\n",
       "      <th>review_count</th>\n",
       "      <th>stars</th>\n",
       "      <th>state</th>\n",
       "      <th>type</th>\n",
       "    </tr>\n",
       "  </thead>\n",
       "  <tbody>\n",
       "    <tr>\n",
       "      <th>0</th>\n",
       "      <td>{'By Appointment Only': True}</td>\n",
       "      <td>vcNAWiLM4dR7D2nwwJ7nCA</td>\n",
       "      <td>[Doctors, Health &amp; Medical]</td>\n",
       "      <td>Phoenix</td>\n",
       "      <td>4840 E Indian School Rd\\nSte 101\\nPhoenix, AZ ...</td>\n",
       "      <td>{'Tuesday': {'close': '17:00', 'open': '08:00'...</td>\n",
       "      <td>33.499313</td>\n",
       "      <td>-111.983758</td>\n",
       "      <td>Eric Goldberg, MD</td>\n",
       "      <td>[]</td>\n",
       "      <td>True</td>\n",
       "      <td>7</td>\n",
       "      <td>3.5</td>\n",
       "      <td>AZ</td>\n",
       "      <td>business</td>\n",
       "    </tr>\n",
       "    <tr>\n",
       "      <th>1</th>\n",
       "      <td>{'Take-out': True, 'Good For': {'dessert': Fal...</td>\n",
       "      <td>JwUE5GmEO-sH1FuwJgKBlQ</td>\n",
       "      <td>[Restaurants]</td>\n",
       "      <td>De Forest</td>\n",
       "      <td>6162 US Highway 51\\nDe Forest, WI 53532</td>\n",
       "      <td>{}</td>\n",
       "      <td>43.238893</td>\n",
       "      <td>-89.335844</td>\n",
       "      <td>Pine Cone Restaurant</td>\n",
       "      <td>[]</td>\n",
       "      <td>True</td>\n",
       "      <td>26</td>\n",
       "      <td>4.0</td>\n",
       "      <td>WI</td>\n",
       "      <td>business</td>\n",
       "    </tr>\n",
       "    <tr>\n",
       "      <th>2</th>\n",
       "      <td>{'Take-out': True, 'Good For': {'dessert': Fal...</td>\n",
       "      <td>uGykseHzyS5xAMWoN6YUqA</td>\n",
       "      <td>[American (Traditional), Restaurants]</td>\n",
       "      <td>De Forest</td>\n",
       "      <td>505 W North St\\nDe Forest, WI 53532</td>\n",
       "      <td>{'Monday': {'close': '22:00', 'open': '06:00'}...</td>\n",
       "      <td>43.252267</td>\n",
       "      <td>-89.353437</td>\n",
       "      <td>Deforest Family Restaurant</td>\n",
       "      <td>[]</td>\n",
       "      <td>True</td>\n",
       "      <td>16</td>\n",
       "      <td>4.0</td>\n",
       "      <td>WI</td>\n",
       "      <td>business</td>\n",
       "    </tr>\n",
       "    <tr>\n",
       "      <th>3</th>\n",
       "      <td>{'Take-out': True, 'Wi-Fi': 'free', 'Takes Res...</td>\n",
       "      <td>LRKJF43s9-3jG9Lgx4zODg</td>\n",
       "      <td>[Food, Ice Cream &amp; Frozen Yogurt, Fast Food, R...</td>\n",
       "      <td>De Forest</td>\n",
       "      <td>4910 County Rd V\\nDe Forest, WI 53532</td>\n",
       "      <td>{'Monday': {'close': '22:00', 'open': '10:30'}...</td>\n",
       "      <td>43.251045</td>\n",
       "      <td>-89.374983</td>\n",
       "      <td>Culver's</td>\n",
       "      <td>[]</td>\n",
       "      <td>True</td>\n",
       "      <td>7</td>\n",
       "      <td>4.5</td>\n",
       "      <td>WI</td>\n",
       "      <td>business</td>\n",
       "    </tr>\n",
       "    <tr>\n",
       "      <th>4</th>\n",
       "      <td>{'Take-out': True, 'Has TV': False, 'Outdoor S...</td>\n",
       "      <td>RgDg-k9S5YD_BaxMckifkg</td>\n",
       "      <td>[Chinese, Restaurants]</td>\n",
       "      <td>De Forest</td>\n",
       "      <td>631 S Main St\\nDe Forest, WI 53532</td>\n",
       "      <td>{'Monday': {'close': '22:00', 'open': '11:00'}...</td>\n",
       "      <td>43.240875</td>\n",
       "      <td>-89.343722</td>\n",
       "      <td>Chang Jiang Chinese Kitchen</td>\n",
       "      <td>[]</td>\n",
       "      <td>True</td>\n",
       "      <td>3</td>\n",
       "      <td>4.0</td>\n",
       "      <td>WI</td>\n",
       "      <td>business</td>\n",
       "    </tr>\n",
       "  </tbody>\n",
       "</table>\n",
       "</div>"
      ],
      "text/plain": [
       "                                          attributes             business_id  \\\n",
       "0                      {'By Appointment Only': True}  vcNAWiLM4dR7D2nwwJ7nCA   \n",
       "1  {'Take-out': True, 'Good For': {'dessert': Fal...  JwUE5GmEO-sH1FuwJgKBlQ   \n",
       "2  {'Take-out': True, 'Good For': {'dessert': Fal...  uGykseHzyS5xAMWoN6YUqA   \n",
       "3  {'Take-out': True, 'Wi-Fi': 'free', 'Takes Res...  LRKJF43s9-3jG9Lgx4zODg   \n",
       "4  {'Take-out': True, 'Has TV': False, 'Outdoor S...  RgDg-k9S5YD_BaxMckifkg   \n",
       "\n",
       "                                          categories       city  \\\n",
       "0                        [Doctors, Health & Medical]    Phoenix   \n",
       "1                                      [Restaurants]  De Forest   \n",
       "2              [American (Traditional), Restaurants]  De Forest   \n",
       "3  [Food, Ice Cream & Frozen Yogurt, Fast Food, R...  De Forest   \n",
       "4                             [Chinese, Restaurants]  De Forest   \n",
       "\n",
       "                                        full_address  \\\n",
       "0  4840 E Indian School Rd\\nSte 101\\nPhoenix, AZ ...   \n",
       "1            6162 US Highway 51\\nDe Forest, WI 53532   \n",
       "2                505 W North St\\nDe Forest, WI 53532   \n",
       "3              4910 County Rd V\\nDe Forest, WI 53532   \n",
       "4                 631 S Main St\\nDe Forest, WI 53532   \n",
       "\n",
       "                                               hours   latitude   longitude  \\\n",
       "0  {'Tuesday': {'close': '17:00', 'open': '08:00'...  33.499313 -111.983758   \n",
       "1                                                 {}  43.238893  -89.335844   \n",
       "2  {'Monday': {'close': '22:00', 'open': '06:00'}...  43.252267  -89.353437   \n",
       "3  {'Monday': {'close': '22:00', 'open': '10:30'}...  43.251045  -89.374983   \n",
       "4  {'Monday': {'close': '22:00', 'open': '11:00'}...  43.240875  -89.343722   \n",
       "\n",
       "                          name neighborhoods  open  review_count  stars state  \\\n",
       "0            Eric Goldberg, MD            []  True             7    3.5    AZ   \n",
       "1         Pine Cone Restaurant            []  True            26    4.0    WI   \n",
       "2   Deforest Family Restaurant            []  True            16    4.0    WI   \n",
       "3                     Culver's            []  True             7    4.5    WI   \n",
       "4  Chang Jiang Chinese Kitchen            []  True             3    4.0    WI   \n",
       "\n",
       "       type  \n",
       "0  business  \n",
       "1  business  \n",
       "2  business  \n",
       "3  business  \n",
       "4  business  "
      ]
     },
     "execution_count": 5,
     "metadata": {},
     "output_type": "execute_result"
    }
   ],
   "source": [
    "# Print dataframe shape and head\n",
    "print(f\"Shape: {dfYelpBusinesses.shape}\")\n",
    "dfYelpBusinesses.head()"
   ]
  },
  {
   "cell_type": "markdown",
   "metadata": {},
   "source": [
    "### Simplify Data Prior to Cuisine Extraction"
   ]
  },
  {
   "cell_type": "code",
   "execution_count": 6,
   "metadata": {},
   "outputs": [],
   "source": [
    "# Set `business_id` as index\n",
    "dfYelpBusinesses.set_index(\"business_id\", inplace=True)"
   ]
  },
  {
   "cell_type": "code",
   "execution_count": 7,
   "metadata": {},
   "outputs": [],
   "source": [
    "# Filter for restaurants\n",
    "dfYelpBusinesses = dfYelpBusinesses[\\\n",
    "        dfYelpBusinesses.categories.apply(lambda cats: \"Restaurants\" in cats)\\\n",
    "]"
   ]
  },
  {
   "cell_type": "code",
   "execution_count": 8,
   "metadata": {},
   "outputs": [],
   "source": [
    "# Remove \"Restuarants\" from `categories`\n",
    "_ = dfYelpBusinesses.categories.apply(lambda cats: cats.remove(\"Restaurants\"))"
   ]
  },
  {
   "cell_type": "code",
   "execution_count": 9,
   "metadata": {},
   "outputs": [],
   "source": [
    "# Drop unnecessary columns; Note: used full `loc` syntax\n",
    "# in case I want to include more than `categories` later\n",
    "dfYelpBusinesses = dfYelpBusinesses.loc[:, [\"categories\"]] #, \"type\", \"attributes\"]]"
   ]
  },
  {
   "cell_type": "code",
   "execution_count": 10,
   "metadata": {},
   "outputs": [
    {
     "name": "stdout",
     "output_type": "stream",
     "text": [
      "Simplified shape: (14303, 1)\n"
     ]
    },
    {
     "data": {
      "text/html": [
       "<div>\n",
       "<style scoped>\n",
       "    .dataframe tbody tr th:only-of-type {\n",
       "        vertical-align: middle;\n",
       "    }\n",
       "\n",
       "    .dataframe tbody tr th {\n",
       "        vertical-align: top;\n",
       "    }\n",
       "\n",
       "    .dataframe thead th {\n",
       "        text-align: right;\n",
       "    }\n",
       "</style>\n",
       "<table border=\"1\" class=\"dataframe\">\n",
       "  <thead>\n",
       "    <tr style=\"text-align: right;\">\n",
       "      <th></th>\n",
       "      <th>categories</th>\n",
       "    </tr>\n",
       "    <tr>\n",
       "      <th>business_id</th>\n",
       "      <th></th>\n",
       "    </tr>\n",
       "  </thead>\n",
       "  <tbody>\n",
       "    <tr>\n",
       "      <th>JwUE5GmEO-sH1FuwJgKBlQ</th>\n",
       "      <td>[]</td>\n",
       "    </tr>\n",
       "    <tr>\n",
       "      <th>uGykseHzyS5xAMWoN6YUqA</th>\n",
       "      <td>[American (Traditional)]</td>\n",
       "    </tr>\n",
       "    <tr>\n",
       "      <th>LRKJF43s9-3jG9Lgx4zODg</th>\n",
       "      <td>[Food, Ice Cream &amp; Frozen Yogurt, Fast Food]</td>\n",
       "    </tr>\n",
       "    <tr>\n",
       "      <th>RgDg-k9S5YD_BaxMckifkg</th>\n",
       "      <td>[Chinese]</td>\n",
       "    </tr>\n",
       "    <tr>\n",
       "      <th>rdAdANPNOcvUtoFgcaY9KA</th>\n",
       "      <td>[American (Traditional)]</td>\n",
       "    </tr>\n",
       "  </tbody>\n",
       "</table>\n",
       "</div>"
      ],
      "text/plain": [
       "                                                          categories\n",
       "business_id                                                         \n",
       "JwUE5GmEO-sH1FuwJgKBlQ                                            []\n",
       "uGykseHzyS5xAMWoN6YUqA                      [American (Traditional)]\n",
       "LRKJF43s9-3jG9Lgx4zODg  [Food, Ice Cream & Frozen Yogurt, Fast Food]\n",
       "RgDg-k9S5YD_BaxMckifkg                                     [Chinese]\n",
       "rdAdANPNOcvUtoFgcaY9KA                      [American (Traditional)]"
      ]
     },
     "execution_count": 10,
     "metadata": {},
     "output_type": "execute_result"
    }
   ],
   "source": [
    "# Print simplified dataframe shape and head\n",
    "print(f\"Simplified shape: {dfYelpBusinesses.shape}\")\n",
    "dfYelpBusinesses.head()"
   ]
  },
  {
   "cell_type": "markdown",
   "metadata": {},
   "source": [
    "### Extract Cuisines"
   ]
  },
  {
   "cell_type": "code",
   "execution_count": 11,
   "metadata": {},
   "outputs": [],
   "source": [
    "# Build a set of all cuisines\n",
    "cuisines = set(dfYelpBusinesses.categories.aggregate(sum))\n",
    "\n",
    "# Convert to Pandas series\n",
    "cuisines = pd.Series(list(cuisines))"
   ]
  },
  {
   "cell_type": "code",
   "execution_count": 12,
   "metadata": {},
   "outputs": [
    {
     "name": "stdout",
     "output_type": "stream",
     "text": [
      "Found 240 cuisines. Sample:\n",
      "0    Ice Cream & Frozen Yogurt\n",
      "1                    Hospitals\n",
      "2                      Seafood\n",
      "3               Transportation\n",
      "4                    Cambodian\n",
      "5                       Diners\n",
      "6       Food Delivery Services\n",
      "7                       Donuts\n",
      "8                   Salvadoran\n",
      "9           Convenience Stores\n",
      "dtype: object\n"
     ]
    }
   ],
   "source": [
    "# Print number of cuisines plus sample\n",
    "print(f\"Found {cuisines.size:,} cuisines. Sample:\")\n",
    "print(cuisines[:10])"
   ]
  },
  {
   "cell_type": "markdown",
   "metadata": {},
   "source": [
    "Not all of the above represent cuisines. Mixed businesses (e.g., a restaurant inside a golf pro-shop) includes non-food descriptors. Close enough for now."
   ]
  },
  {
   "cell_type": "code",
   "execution_count": 13,
   "metadata": {},
   "outputs": [],
   "source": [
    "# Exclude categories from cuisines\n",
    "exclude = [\n",
    "    \"Flowers & Gifts\",\n",
    "    \"Horseback Riding\",\n",
    "    \"Golf\",\n",
    "    \"Hospitals\",\n",
    "    \"Performing Arts\",\n",
    "    \"Shopping\",\n",
    "    \"Arcades\",\n",
    "    \"Arts & Crafts\",\n",
    "    \"Drugstores\",\n",
    "    \"Venues & Event Spaces\",\n",
    "    \"Grocery\",\n",
    "    \"Outlet Stores\",\n",
    "    \"Festivals\",\n",
    "    \"Gyms\",\n",
    "    \"Leisure Centers\",\n",
    "    \"Fitness & Instruction\",\n",
    "    \"Cooking Schools\",\n",
    "    \"Colleges & Universities\",\n",
    "    \"Social Clubs\",\n",
    "    \"Auto Repair\",\n",
    "    \"Music Venues\",\n",
    "    \"Real Estate\",\n",
    "    \"Apartments\",\n",
    "    \"Casinos\",\n",
    "    \"Food Delivery Services\",\n",
    "    \"Adult Entertainment\",\n",
    "    \"Jazz & Blues\",\n",
    "    \"Medical Spas\",\n",
    "    \"Country Dance Halls\",\n",
    "    \"Home Decor\",\n",
    "    \"Tours\",\n",
    "    \"Gas & Service Stations\",\n",
    "    \"Art Galleries\",\n",
    "    \"Gift Shops\",\n",
    "    \"Hotels & Travel\",\n",
    "    \"Specialty Schools\",\n",
    "    \"Taxis\",\n",
    "    \"Appliances\",\n",
    "    \"Sports Wear\",\n",
    "    \"Amusement Parks\",\n",
    "    \"Print Media\",\n",
    "    \"Caterers\",\n",
    "    \"Arts & Entertainment\",\n",
    "    \"Health & Medical\",\n",
    "    \"Karaoke\",\n",
    "    \"RV Parks\",\n",
    "    \"Mass Media\",\n",
    "    \"Lounges\",\n",
    "    \"Event Planning & Services\",\n",
    "    \"Day Spas\",\n",
    "    \"Active Life\",\n",
    "    \"Personal Shopping\",\n",
    "    \"Education\",\n",
    "    \"Transportation\",\n",
    "    \"Dance Clubs\",\n",
    "    \"Dry Cleaning & Laundry\",\n",
    "    \"Beauty & Spas\",\n",
    "    \"Kitchen & Bath\",\n",
    "    \"Car Wash\",\n",
    "    \"Home Services\",\n",
    "    \"Shopping Centers\",\n",
    "    \"Nightlife\",\n",
    "    \"Internet Cafes\",\n",
    "    \"Bowling\",\n",
    "    \"Cinema\",\n",
    "    \"Home & Garden\",\n",
    "    \"Public Services & Government\",\n",
    "    \"Cultural Center\",\n",
    "    \"Kids Activities\",\n",
    "    \"Airports\",\n",
    "    \"Gay Bars\",\n",
    "    \"Hookah Bars\",\n",
    "    \"Convenience Stores\",\n",
    "    \"Local Services\",\n",
    "    \"Fashion\",\n",
    "    \"Pool Halls\",\n",
    "    \"Sporting Goods\",\n",
    "    \"Do-It-Yourself Food\",\n",
    "    \"Party & Event Planning\",\n",
    "    \"Automotive\",\n",
    "    \"Hotels\",\n",
    "    \"Health Markets\",\n",
    "    \"Swimming Pools\",\n",
    "    \"Personal Chefs\",\n",
    "    \"Landmarks & Historical Buildings\"\n",
    "]\n",
    "cuisines = cuisines[~cuisines.isin(exclude)]"
   ]
  },
  {
   "cell_type": "code",
   "execution_count": 14,
   "metadata": {},
   "outputs": [
    {
     "name": "stdout",
     "output_type": "stream",
     "text": [
      "Found 155 cuisines after exclusion. Sample:\n",
      "0     Ice Cream & Frozen Yogurt\n",
      "2                       Seafood\n",
      "4                     Cambodian\n",
      "5                        Diners\n",
      "7                        Donuts\n",
      "8                    Salvadoran\n",
      "11                   Vegetarian\n",
      "13                Mediterranean\n",
      "15                   Venezuelan\n",
      "17                 Fish & Chips\n",
      "dtype: object\n"
     ]
    }
   ],
   "source": [
    "# Print number of cuisines after exclusions\n",
    "print(f\"Found {cuisines.size:,} cuisines after exclusion. Sample:\")\n",
    "print(cuisines[:10])"
   ]
  },
  {
   "cell_type": "markdown",
   "metadata": {},
   "source": [
    "### Limit Business Categories to Cuisines"
   ]
  },
  {
   "cell_type": "code",
   "execution_count": 15,
   "metadata": {},
   "outputs": [],
   "source": [
    "# Update business `categories` with to just cuisines\n",
    "xsetCuisines = lambda listOfStr: np.intersect1d(listOfStr, cuisines.values)\n",
    "dfYelpBusinesses.categories = dfYelpBusinesses.categories.apply(lambda cats: xsetCuisines(cats))"
   ]
  },
  {
   "cell_type": "code",
   "execution_count": 16,
   "metadata": {},
   "outputs": [],
   "source": [
    "# Label empty categories as \"Food\"\n",
    "defaultFood = lambda listOfStr: [\"Food\"] if len(listOfStr) == 0 else listOfStr\n",
    "dfYelpBusinesses.categories = dfYelpBusinesses.categories.apply(lambda cats: defaultFood(cats))"
   ]
  },
  {
   "cell_type": "markdown",
   "metadata": {},
   "source": [
    "### Save Data\n",
    "\n",
    "Save the both cuisine series as CSV and restaurant-to-cuisine dataframe as a GZIPped pickle to \"/source/{filename}.{extension}\"."
   ]
  },
  {
   "cell_type": "code",
   "execution_count": 19,
   "metadata": {},
   "outputs": [
    {
     "name": "stdout",
     "output_type": "stream",
     "text": [
      "Restauarant-to-Cuisines size: 969 KB\n"
     ]
    }
   ],
   "source": [
    "dfYelpBusinesses.to_pickle(PATH_OUTPUT_YELP_REST_TO_CUISINES)\n",
    "print(f\"Restauarant-to-Cuisines size: {os.path.getsize(PATH_OUTPUT_YELP_REST_TO_CUISINES) >> 10:,} KB\")"
   ]
  },
  {
   "cell_type": "code",
   "execution_count": 18,
   "metadata": {},
   "outputs": [
    {
     "name": "stdout",
     "output_type": "stream",
     "text": [
      "Cuisines size: 1 KB\n"
     ]
    }
   ],
   "source": [
    "cuisines.to_csv(PATH_OUTPUT_YELP_CUISINES, index=False)\n",
    "print(f\"Cuisines size: {os.path.getsize(PATH_OUTPUT_YELP_CUISINES) >> 10:,} KB\")"
   ]
  }
 ],
 "metadata": {
  "kernelspec": {
   "display_name": "Python 3",
   "language": "python",
   "name": "python3"
  },
  "language_info": {
   "codemirror_mode": {
    "name": "ipython",
    "version": 3
   },
   "file_extension": ".py",
   "mimetype": "text/x-python",
   "name": "python",
   "nbconvert_exporter": "python",
   "pygments_lexer": "ipython3",
   "version": "3.7.0"
  }
 },
 "nbformat": 4,
 "nbformat_minor": 2
}
