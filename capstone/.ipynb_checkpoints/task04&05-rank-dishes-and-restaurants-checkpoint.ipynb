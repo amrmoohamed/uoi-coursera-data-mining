{
 "cells": [
  {
   "cell_type": "markdown",
   "metadata": {},
   "source": [
    "loganjtravis@gmail.com (Logan Travis)"
   ]
  },
  {
   "cell_type": "code",
   "execution_count": 18,
   "metadata": {},
   "outputs": [],
   "source": [
    "%%capture --no-stdout\n",
    "\n",
    "# Imports; captures errors to supress warnings about changing\n",
    "# import syntax\n",
    "import matplotlib.pyplot as plot\n",
    "import matplotlib.cm as cm\n",
    "import nltk\n",
    "import numpy as np\n",
    "import pandas as pd\n",
    "import random\n",
    "import re\n",
    "import scipy as sp\n",
    "from sklearn.feature_extraction.text import CountVectorizer\n",
    "from sklearn.preprocessing import MinMaxScaler\n",
    "import unidecode"
   ]
  },
  {
   "cell_type": "code",
   "execution_count": 2,
   "metadata": {},
   "outputs": [],
   "source": [
    "# Set random seed for repeatability\n",
    "random.seed(42)"
   ]
  },
  {
   "cell_type": "code",
   "execution_count": 3,
   "metadata": {},
   "outputs": [],
   "source": [
    "# Set matplotlib to inline to preserve images in PDF\n",
    "%matplotlib inline"
   ]
  },
  {
   "cell_type": "markdown",
   "metadata": {},
   "source": [
    "# Summary\n",
    "\n",
    "From course page [Week 4 > Task 4 and 5 Information > Task 4 and 5 Overview](https://www.coursera.org/learn/data-mining-project/supplement/gvCsC/task-4-and-5-overview):\n",
    "\n",
    "> The general goal of Tasks 4 and 5 is to leverage recognized dish names to further help people making dining decisions. Specifically, Task 4 is to mine popular dishes in a cuisine that are liked by people; this can be very useful for people who would be interested in trying a cuisine that they might not be familiar with. Task 5 is to recommend restaurants to people who would like to have a particular dish or a certain type of dishes. This is directly useful to help people choose where to dine.\n",
    "> \n",
    "> ...\n",
    "> \n",
    "> **Instructions**\n",
    "> Some questions to consider when working on Tasks 4 & 5:\n",
    "> \n",
    "> 1. Given a cuisine and a set of candidate dish names of the cuisine, how do we quantify the popularity of a dish? How can we discover the popular dishes that are liked by many reviewers? What kind of dishes should be ranked higher in general if we are to recommend dishes of a cuisine for people to try? Would the number of times a dish is mentioned in all the reviews be a better indicator of a popular dish than the number of restaurants whose reviews mentioned the dish?\n",
    "> 2. For people who are interested in a particular dish or a certain type of dishes, which restaurants should be recommended? How can we design a ranking function based on the reviews of the restaurants that mention the particular dish(es)? Should a restaurant with more dish name occurrences be ranked higher than one with more unique dish names?\n",
    "> 3. How can you visualize the recommended dishes for a cuisine and the recommended restaurants for particular dishes to make them as useful as possible to users? How can the visualization be incorporated into a usable system? For example, you can imagine using the algorithms you developed for Tasks 4 and 5 to construct a system that allows a user to select a cuisine to see the favorite/popular dishes of the cuisine and further recommends the best restaurants if a user selects a particular dish or a set of dishes that are interesting to him/her."
   ]
  },
  {
   "cell_type": "markdown",
   "metadata": {},
   "source": [
    "# Task 04: Mine Popular Dishes\n",
    "\n",
    "*"
   ]
  },
  {
   "cell_type": "code",
   "execution_count": 4,
   "metadata": {},
   "outputs": [],
   "source": [
    "# Set paths to data source, work in process (\"WIP\"), and output\n",
    "PATH_SOURCE = \"source/\"\n",
    "PATH_WIP = \"wip/\"\n",
    "PATH_OUTPUT = \"output/\"\n",
    "\n",
    "# Set file paths\n",
    "PATH_SOURCE_MEXICAN_LABELS = PATH_SOURCE + \"labels/Mexican_FINAL.label\"\n",
    "PATH_SOURCE_YELP_REVIEWS = PATH_SOURCE + \\\n",
    "        \"yelp_academic_dataset_review.pkl.gzip\"\n",
    "PATH_SOURCE_YELP_REST_TO_CUISINES = PATH_SOURCE + \\\n",
    "        \"yelp_academic_dataset_restaurant_to_cuisine.pkl.gzip\"\n",
    "PATH_SOURCE_YELP_BUSINESSES = PATH_SOURCE + \\\n",
    "        \"yelp_dataset_challenge_academic_dataset/yelp_academic_dataset_business.json\""
   ]
  },
  {
   "cell_type": "markdown",
   "metadata": {},
   "source": [
    "## Get Dishes for Mexican Cuisine"
   ]
  },
  {
   "cell_type": "code",
   "execution_count": 5,
   "metadata": {},
   "outputs": [],
   "source": [
    "# Get dishes for Mexican cuisine\n",
    "dfMexDishes = pd.read_csv(PATH_SOURCE_MEXICAN_LABELS, names=[\"dish\"])"
   ]
  },
  {
   "cell_type": "code",
   "execution_count": 6,
   "metadata": {},
   "outputs": [],
   "source": [
    "# Strip accents from dish names\n",
    "dfMexDishes.dish = dfMexDishes.dish.transform(unidecode.unidecode)"
   ]
  },
  {
   "cell_type": "markdown",
   "metadata": {},
   "source": [
    "## Get Reviews from Mexican Restaurants"
   ]
  },
  {
   "cell_type": "code",
   "execution_count": 7,
   "metadata": {},
   "outputs": [],
   "source": [
    "# Read saved data\n",
    "dfYelpReviews = pd.read_pickle(PATH_SOURCE_YELP_REVIEWS)\n",
    "dfYelpRestToCuis = pd.read_pickle(PATH_SOURCE_YELP_REST_TO_CUISINES)"
   ]
  },
  {
   "cell_type": "code",
   "execution_count": 8,
   "metadata": {},
   "outputs": [],
   "source": [
    "# Filter restaurants to those tagged with \"Mexican\" category\n",
    "dfYelpRestMexican = dfYelpRestToCuis[dfYelpRestToCuis.categories.apply(\\\n",
    "        lambda cats: \"Mexican\" in cats)]"
   ]
  },
  {
   "cell_type": "code",
   "execution_count": 9,
   "metadata": {},
   "outputs": [],
   "source": [
    "# Join (inner) reviews to restaurants\n",
    "dfYelpReviews = dfYelpReviews.join(dfYelpRestMexican, \\\n",
    "                                   on=\"business_id\", \\\n",
    "                                   how=\"inner\", \\\n",
    "                                   rsuffix=\"_business\")"
   ]
  },
  {
   "cell_type": "code",
   "execution_count": 10,
   "metadata": {},
   "outputs": [],
   "source": [
    "# Reset index to simple integer; simplifies document selection\n",
    "# in TF matrix\n",
    "dfYelpReviews.reset_index(inplace=True)"
   ]
  },
  {
   "cell_type": "markdown",
   "metadata": {},
   "source": [
    "## Rank Dishes by Frequency in Reviews (simple)\n",
    "\n",
    "*"
   ]
  },
  {
   "cell_type": "code",
   "execution_count": 11,
   "metadata": {},
   "outputs": [],
   "source": [
    "# Set minimum and maximum n-gram length; Note: Dish names\n",
    "# set to maximum of trigram in task 03\n",
    "NGRAM_RANGE = (1, 3)\n",
    "\n",
    "# Convert dish dataframe to vocabulary dictionary for\n",
    "# use in `CountVectorizer`\n",
    "DISH_DICT = dfMexDishes.dish.to_dict() # {index:dish}\n",
    "DISH_DICT = {v: k for k, v in DISH_DICT.items()} # {dish:index}"
   ]
  },
  {
   "cell_type": "code",
   "execution_count": 12,
   "metadata": {},
   "outputs": [],
   "source": [
    "class MyTokenizer:\n",
    "    def __init__(self):\n",
    "        \"\"\"String tokenizer utilizing lemmatizing and stemming.\"\"\"\n",
    "        self.wnl = nltk.stem.WordNetLemmatizer()\n",
    "    \n",
    "    def __call__(self, document):\n",
    "        \"\"\"Return tokens from a string.\"\"\"\n",
    "        return [self.wnl.lemmatize(token) for \\\n",
    "                        token in nltk.word_tokenize(document)]"
   ]
  },
  {
   "cell_type": "code",
   "execution_count": 13,
   "metadata": {},
   "outputs": [],
   "source": [
    "# Create dish frequency vectorizer \n",
    "dishFreq = CountVectorizer(strip_accents=\"unicode\", stop_words=\"english\", \\\n",
    "                           tokenizer=MyTokenizer(), ngram_range=NGRAM_RANGE, \\\n",
    "                           vocabulary=DISH_DICT, binary=True)"
   ]
  },
  {
   "cell_type": "code",
   "execution_count": 14,
   "metadata": {},
   "outputs": [
    {
     "name": "stdout",
     "output_type": "stream",
     "text": [
      "CPU times: user 1min 35s, sys: 109 ms, total: 1min 35s\n",
      "Wall time: 1min 37s\n"
     ]
    }
   ],
   "source": [
    "%%time\n",
    "\n",
    "# Calculate dish frequencies\n",
    "dishInReview = dishFreq.fit_transform(dfYelpReviews.text)"
   ]
  },
  {
   "cell_type": "code",
   "execution_count": 15,
   "metadata": {},
   "outputs": [],
   "source": [
    "# Append dish count to dataframe; CAUTION: Make sure\n",
    "# dataframe of mexican dishes sorted in ascending index\n",
    "# order or values will map incorrectly.\n",
    "# dfMexDishes.sort_index(inplace=True)\n",
    "dfMexDishes[\"count_in_reviews\"] = dishInReview.sum(axis=0).A[0]"
   ]
  },
  {
   "cell_type": "code",
   "execution_count": 48,
   "metadata": {},
   "outputs": [],
   "source": [
    "def plotDishRank(dataframe, heightCol, labelCol, title, topN=20):\n",
    "    \"\"\"Plot dish rank\"\"\"\n",
    "    data = dataframe.sort_values(by=heightCol, ascending=False)\\\n",
    "            .reset_index().iloc[:topN]\n",
    "    \n",
    "    # Extract plot parameters from data\n",
    "    y_pos = data.index.values\n",
    "    height = data[heightCol].values\n",
    "    labels = data[labelCol].values\n",
    "\n",
    "    # Configure plot\n",
    "    fig, ax = plot.subplots()\n",
    "    fig.set_size_inches(8, 10)\n",
    "\n",
    "    # Configure color mapping\n",
    "    cmap = cm.viridis\n",
    "    norm = matplotlib.colors.Normalize(vmin=min(height), vmax=max(height))\n",
    "\n",
    "    # Generate horizontal bar chart \n",
    "    plot.barh(y_pos, height, color=cmap(norm(height)))\n",
    "\n",
    "    # Set axes and title\n",
    "    plot.yticks(y_pos, labels)\n",
    "    plot.title(title)\n",
    "    \n",
    "    # Return plot\n",
    "    return fig, ax"
   ]
  },
  {
   "cell_type": "code",
   "execution_count": 46,
   "metadata": {},
   "outputs": [
    {
     "data": {
      "image/png": "[encoded data removed]",
      "text/plain": [
       "<Figure size 576x720 with 1 Axes>"
      ]
     },
     "metadata": {
      "needs_background": "light"
     },
     "output_type": "display_data"
    }
   ],
   "source": [
    "# Plot dish frequency in reviews\n",
    "_, _ = plotDishRank(dfMexDishes, \"count_in_reviews\", \"dish\", \\\n",
    "                    \"Mexican Dish Popularity by Occurence in Yelp Reviews\")\n",
    "plot.show()"
   ]
  },
  {
   "cell_type": "markdown",
   "metadata": {},
   "source": [
    "*"
   ]
  },
  {
   "cell_type": "markdown",
   "metadata": {},
   "source": [
    "## Rank Dishes by Review Stars (moderately complex)\n",
    "\n",
    "*"
   ]
  },
  {
   "cell_type": "code",
   "execution_count": 20,
   "metadata": {},
   "outputs": [],
   "source": [
    "%%capture --no-stdout\n",
    "\n",
    "# Normalize star scores; Note: Captures `DataConversionWarning`\n",
    "# from int64 to float64\n",
    "minMax = MinMaxScaler()\n",
    "normedStars = minMax.fit_transform(dfYelpReviews.stars.values.reshape(-1, 1))"
   ]
  },
  {
   "cell_type": "code",
   "execution_count": 21,
   "metadata": {},
   "outputs": [],
   "source": [
    "# Multiply normalized star scores by dish appearance in review\n",
    "dishNormedStarts = dishInReview.multiply(normedStars)"
   ]
  },
  {
   "cell_type": "code",
   "execution_count": 22,
   "metadata": {},
   "outputs": [],
   "source": [
    "# Append dish normalized star score to dataframe; CAUTION:\n",
    "# Make sure dataframe of mexican dishes sorted in ascending\n",
    "# index order or values will map incorrectly.\n",
    "# dfMexDishes.sort_index(inplace=True)\n",
    "dfMexDishes[\"score_in_reviews\"] = dishNormedStarts.sum(axis=0).A[0]"
   ]
  },
  {
   "cell_type": "code",
   "execution_count": 47,
   "metadata": {},
   "outputs": [
    {
     "data": {
      "image/png": "[encoded data removed]",
      "text/plain": [
       "<Figure size 576x720 with 1 Axes>"
      ]
     },
     "metadata": {
      "needs_background": "light"
     },
     "output_type": "display_data"
    }
   ],
   "source": [
    "# Plot dish frequency in reviews\n",
    "_, _ = plotDishRank(dfMexDishes, \"score_in_reviews\", \"dish\", \\\n",
    "                    \"Mexican Dish Popularity by Normalized Stars in Yelp Reviews\")\n",
    "plot.show()"
   ]
  },
  {
   "cell_type": "markdown",
   "metadata": {},
   "source": [
    "*"
   ]
  },
  {
   "cell_type": "markdown",
   "metadata": {},
   "source": [
    "## Rank Dishes by Review Sentiment (complex)\n",
    "\n",
    "*"
   ]
  },
  {
   "cell_type": "markdown",
   "metadata": {},
   "source": [
    "## Summary\n",
    "\n",
    "*"
   ]
  },
  {
   "cell_type": "markdown",
   "metadata": {},
   "source": [
    "# Task 05: Restaurant Recommendation\n",
    "\n",
    "*"
   ]
  },
  {
   "cell_type": "markdown",
   "metadata": {},
   "source": [
    "## Get Mexican Restaurants\n",
    "\n",
    "*"
   ]
  },
  {
   "cell_type": "code",
   "execution_count": 24,
   "metadata": {},
   "outputs": [],
   "source": [
    "# Load businesses into Pandas dataframe\n",
    "dfYelpBusinesses = pd.read_json(PATH_SOURCE_YELP_BUSINESSES, orient=\"records\", lines=True)"
   ]
  },
  {
   "cell_type": "code",
   "execution_count": 25,
   "metadata": {},
   "outputs": [],
   "source": [
    "# Group reviews for each restaurant\n",
    "dfYelpReviewsByRest = dfYelpReviews.groupby(by=\"business_id\").agg({\n",
    "    \"review_id\": \"count\",\n",
    "    \"stars\": \"sum\"\n",
    "}).reset_index().rename(columns={\n",
    "    \"review_id\": \"my_review_count\",\n",
    "    \"stars\": \"my_sum_stars\"\n",
    "})"
   ]
  },
  {
   "cell_type": "code",
   "execution_count": 26,
   "metadata": {},
   "outputs": [],
   "source": [
    "# Join (inner) restaurants to review counts\n",
    "dfYelpBusinesses = dfYelpBusinesses.merge(dfYelpReviewsByRest, \\\n",
    "                                          on=\"business_id\", \\\n",
    "                                          how=\"inner\")"
   ]
  },
  {
   "cell_type": "markdown",
   "metadata": {},
   "source": [
    "## Rank Restaurants by Dish Frequency and Restaruant Stars (simple)\n",
    "\n",
    "*"
   ]
  },
  {
   "cell_type": "code",
   "execution_count": 27,
   "metadata": {},
   "outputs": [
    {
     "name": "stdout",
     "output_type": "stream",
     "text": [
      "CPU times: user 10.6 s, sys: 0 ns, total: 10.6 s\n",
      "Wall time: 10.7 s\n"
     ]
    }
   ],
   "source": [
    "%%time\n",
    "\n",
    "# Sum dish appearances in reviews across restaurants\n",
    "dishCountRestaurant = sp.sparse.coo_matrix((0, dishInReview.shape[1]))\n",
    "for b in dfYelpBusinesses.business_id:\n",
    "    idxs = dfYelpReviews[dfYelpReviews.business_id == b].index\n",
    "    dishCountRestaurant = sp.sparse.vstack([dishCountRestaurant, \\\n",
    "                                            dishInReview[idxs, ].sum(axis=0)])"
   ]
  },
  {
   "cell_type": "code",
   "execution_count": 28,
   "metadata": {},
   "outputs": [],
   "source": [
    "# Convert to CSR for efficient row-wise operations\n",
    "dishCountRestaurant = dishCountRestaurant.tocsr()"
   ]
  },
  {
   "cell_type": "code",
   "execution_count": 29,
   "metadata": {},
   "outputs": [],
   "source": [
    "# Normalize by number of reviews for each resaurant\n",
    "dishReviewRatioRestaurant = dishCountRestaurant.multiply(\\\n",
    "        1.0 / dfYelpBusinesses.my_review_count.values[:, np.newaxis])"
   ]
  },
  {
   "cell_type": "code",
   "execution_count": 51,
   "metadata": {},
   "outputs": [],
   "source": [
    "def plotDishRestRank(dish, mxDishToRest, dfDish, dfRest, colDishLabel, colRestLabel, \\\n",
    "                     title, xlabel, topN=20):\n",
    "    \"\"\"Plot restaurant rank for a specific dish\"\"\"\n",
    "    idxDish = dfDish[dfDish[colDishLabel] == dish].index.values[0]\n",
    "    data = pd.DataFrame(dfRest[colRestLabel])\n",
    "    data[\"height\"] = mxDishToRest.getcol(idxDish).todense()\n",
    "    data = data.sort_values(by=\"height\", ascending=False)\\\n",
    "            .reset_index().iloc[:topN]\n",
    "    \n",
    "    # Extract plot parameters from data\n",
    "    y_pos = data.index.values\n",
    "    height = data.height.values\n",
    "    labels = data[colRestLabel].values\n",
    "\n",
    "    # Configure plot\n",
    "    fig, ax = plot.subplots()\n",
    "    fig.set_size_inches(8, 10)\n",
    "\n",
    "    # Configure color mapping\n",
    "    cmap = cm.viridis\n",
    "    norm = matplotlib.colors.Normalize()\n",
    "\n",
    "    # Generate horizontal bar chart \n",
    "    plot.barh(y_pos, height, color=cmap(norm(height)))\n",
    "\n",
    "    # Set axes and title\n",
    "    plot.yticks(y_pos, labels)\n",
    "    plot.xlabel(xlabel)\n",
    "    plot.title(title)\n",
    "    \n",
    "    # Return plot\n",
    "    return fig, ax"
   ]
  },
  {
   "cell_type": "code",
   "execution_count": 52,
   "metadata": {},
   "outputs": [
    {
     "data": {
      "image/png": "[encoded data removed]",
      "text/plain": [
       "<Figure size 576x720 with 1 Axes>"
      ]
     },
     "metadata": {
      "needs_background": "light"
     },
     "output_type": "display_data"
    }
   ],
   "source": [
    "# Plot dish frequency in reviews\n",
    "_, _ = plotDishRestRank(\"salsa\", \\\n",
    "                        dishReviewRatioRestaurant, \\\n",
    "                        dfMexDishes, \\\n",
    "                        dfYelpBusinesses, \\\n",
    "                        \"dish\", \\\n",
    "                        \"name\", \\\n",
    "                        \"Restaurant Popularity for \\\"salsa\\\"\", \\\n",
    "                        \"Normalized Occurence in Yelp Reviews\")\n",
    "plot.show()"
   ]
  },
  {
   "cell_type": "markdown",
   "metadata": {},
   "source": [
    "*"
   ]
  }
 ],
 "metadata": {
  "kernelspec": {
   "display_name": "Python 3",
   "language": "python",
   "name": "python3"
  },
  "language_info": {
   "codemirror_mode": {
    "name": "ipython",
    "version": 3
   },
   "file_extension": ".py",
   "mimetype": "text/x-python",
   "name": "python",
   "nbconvert_exporter": "python",
   "pygments_lexer": "ipython3",
   "version": "3.7.0"
  }
 },
 "nbformat": 4,
 "nbformat_minor": 2
}
