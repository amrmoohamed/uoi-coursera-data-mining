{
 "cells": [
  {
   "cell_type": "markdown",
   "metadata": {},
   "source": [
    "# Univ. of Illinois Data Mining Project on Coursera\n",
    "## Task 00 - Clean and Convert Yelp Reviews from JSON\n",
    "2018-09-14\n",
    "loganjtravis@gmail.com (Logan Travis)"
   ]
  },
  {
   "cell_type": "code",
   "execution_count": 1,
   "metadata": {},
   "outputs": [],
   "source": [
    "# Imports\n",
    "import json, os\n",
    "import pandas as pd"
   ]
  },
  {
   "cell_type": "markdown",
   "metadata": {},
   "source": [
    "### Summary\n",
    "\n",
    "Tasks in the Univeristy of Illinois Data Minig Project use the Yelp data set. See course page [Week 1 > Orientation > Data Set and Toolkit Acquisition](https://www.coursera.org/learn/data-mining-project/supplement/Ij7rp/data-set-and-toolkit-acquisition). That data set includes multiple JSON files but I intend to use Pandas dataframes for most of my work. Parsing the source files once and savingas a pickled dataframe will save me time and provide a consistent source for each task. This workbook parses then saves the `yelp_academic_dataset_review.json` data set."
   ]
  },
  {
   "cell_type": "markdown",
   "metadata": {},
   "source": [
    "### Get Data Set"
   ]
  },
  {
   "cell_type": "code",
   "execution_count": 2,
   "metadata": {},
   "outputs": [],
   "source": [
    "# Set paths to data source and output\n",
    "PATH_SOURCE = \"source/yelp_dataset_challenge_academic_dataset/\"\n",
    "PATH_OUTPUT = \"source/\"\n",
    "\n",
    "# Set review file path\n",
    "PATH_SOURCE_YELP_REVIEWS = PATH_SOURCE + \"yelp_academic_dataset_review.json\"\n",
    "\n",
    "# Set ouptput file path (using GZIP compression)\n",
    "PATH_OUTPUT_YELP_REVIEWS = PATH_OUTPUT + \"yelp_academic_dataset_review.pkl.gzip\""
   ]
  },
  {
   "cell_type": "markdown",
   "metadata": {},
   "source": [
    "The Yelp data set did not provide a schema. All files use JSON formatting but the `pandas.read_json` ([link to documentation](https://pandas.pydata.org/pandas-docs/stable/generated/pandas.read_json.html)) requires an `orient` parameter to correctly parse JSON. Here are the first three lines of the review dataset:"
   ]
  },
  {
   "cell_type": "code",
   "execution_count": 3,
   "metadata": {},
   "outputs": [
    {
     "name": "stdout",
     "output_type": "stream",
     "text": [
      "Line 0: {'votes': {'funny': 0, 'useful': 2, 'cool': 1}, 'user_id': 'Xqd0DzHaiyRqVH3WRG7hzg', 'review_id': '15SdjuK7DmYqUAj6rjGowg', 'stars': 5, 'date': '2007-05-17', 'text': \"dr. goldberg offers everything i look for in a general practitioner.  he's nice and easy to talk to without being patronizing; he's always on time in seeing his patients; he's affiliated with a top-notch hospital (nyu) which my parents have explained to me is very important in case something happens and you need surgery; and you can get referrals to see specialists without having to see him first.  really, what more do you need?  i'm sitting here trying to think of any complaints i have about him, but i'm really drawing a blank.\", 'type': 'review', 'business_id': 'vcNAWiLM4dR7D2nwwJ7nCA'}\n",
      "\n",
      "Line 1: {'votes': {'funny': 0, 'useful': 2, 'cool': 0}, 'user_id': 'H1kH6QZV7Le4zqTRNxoZow', 'review_id': 'RF6UnRTtG7tWMcrO2GEoAg', 'stars': 2, 'date': '2010-03-22', 'text': \"Unfortunately, the frustration of being Dr. Goldberg's patient is a repeat of the experience I've had with so many other doctors in NYC -- good doctor, terrible staff.  It seems that his staff simply never answers the phone.  It usually takes 2 hours of repeated calling to get an answer.  Who has time for that or wants to deal with it?  I have run into this problem with many other doctors and I just don't get it.  You have office workers, you have patients with medical needs, why isn't anyone answering the phone?  It's incomprehensible and not work the aggravation.  It's with regret that I feel that I have to give Dr. Goldberg 2 stars.\", 'type': 'review', 'business_id': 'vcNAWiLM4dR7D2nwwJ7nCA'}\n",
      "\n",
      "Line 2: {'votes': {'funny': 0, 'useful': 1, 'cool': 1}, 'user_id': 'zvJCcrpm2yOZrxKffwGQLA', 'review_id': '-TsVN230RCkLYKBeLsuz7A', 'stars': 4, 'date': '2012-02-14', 'text': \"Dr. Goldberg has been my doctor for years and I like him.  I've found his office to be fairly efficient.  Today I actually got to see the doctor a few minutes early!  \\n\\nHe seems very engaged with his patients and his demeanor is friendly, yet authoritative.    \\n\\nI'm glad to have Dr. Goldberg as my doctor.\", 'type': 'review', 'business_id': 'vcNAWiLM4dR7D2nwwJ7nCA'}\n",
      "\n"
     ]
    }
   ],
   "source": [
    "# Since the data did not include a schema description, print the first 3 lines\n",
    "with open(PATH_SOURCE_YELP_REVIEWS) as f:\n",
    "    for i in range(3):\n",
    "        print(f\"Line {i:d}: {json.loads(next(f))}\\n\")"
   ]
  },
  {
   "cell_type": "markdown",
   "metadata": {},
   "source": [
    "Each row is an object and they appear consistent so set `orient` to \"records\" and `lines` to `True`...\n",
    "\n",
    "...rather those settings would work with a smaller dataset. The Yelp review is **huge**:"
   ]
  },
  {
   "cell_type": "code",
   "execution_count": 4,
   "metadata": {},
   "outputs": [
    {
     "name": "stdout",
     "output_type": "stream",
     "text": [
      "Size: 997 MB\n",
      "Lines: 1,125,458\n"
     ]
    }
   ],
   "source": [
    "# Print file statistics\n",
    "print(f\"Size: {os.path.getsize(PATH_SOURCE_YELP_REVIEWS) >> 20:,} MB\")\n",
    "print(f\"Lines: {sum(1 for l in open(PATH_SOURCE_YELP_REVIEWS)):,}\")"
   ]
  },
  {
   "cell_type": "markdown",
   "metadata": {},
   "source": [
    "Save memory by passing a generator to the `pandas.DataFrame` initializer that reads one line at a time and parses the JSON. Results:"
   ]
  },
  {
   "cell_type": "code",
   "execution_count": 5,
   "metadata": {},
   "outputs": [],
   "source": [
    "# Load reviews into Pandas dataframe one line at a time\n",
    "with open(PATH_SOURCE_YELP_REVIEWS) as f:\n",
    "#     dfYelpReviews = pd.DataFrame(json.loads(l) for l in f if random.random() < 0.3)\n",
    "    dfYelpReviews = pd.DataFrame(json.loads(l) for l in f)"
   ]
  },
  {
   "cell_type": "code",
   "execution_count": 6,
   "metadata": {},
   "outputs": [
    {
     "name": "stdout",
     "output_type": "stream",
     "text": [
      "Shape: (1125458, 8)\n"
     ]
    },
    {
     "data": {
      "text/html": [
       "<div>\n",
       "<style scoped>\n",
       "    .dataframe tbody tr th:only-of-type {\n",
       "        vertical-align: middle;\n",
       "    }\n",
       "\n",
       "    .dataframe tbody tr th {\n",
       "        vertical-align: top;\n",
       "    }\n",
       "\n",
       "    .dataframe thead th {\n",
       "        text-align: right;\n",
       "    }\n",
       "</style>\n",
       "<table border=\"1\" class=\"dataframe\">\n",
       "  <thead>\n",
       "    <tr style=\"text-align: right;\">\n",
       "      <th></th>\n",
       "      <th>business_id</th>\n",
       "      <th>date</th>\n",
       "      <th>review_id</th>\n",
       "      <th>stars</th>\n",
       "      <th>text</th>\n",
       "      <th>type</th>\n",
       "      <th>user_id</th>\n",
       "      <th>votes</th>\n",
       "    </tr>\n",
       "  </thead>\n",
       "  <tbody>\n",
       "    <tr>\n",
       "      <th>0</th>\n",
       "      <td>vcNAWiLM4dR7D2nwwJ7nCA</td>\n",
       "      <td>2007-05-17</td>\n",
       "      <td>15SdjuK7DmYqUAj6rjGowg</td>\n",
       "      <td>5</td>\n",
       "      <td>dr. goldberg offers everything i look for in a...</td>\n",
       "      <td>review</td>\n",
       "      <td>Xqd0DzHaiyRqVH3WRG7hzg</td>\n",
       "      <td>{'funny': 0, 'useful': 2, 'cool': 1}</td>\n",
       "    </tr>\n",
       "    <tr>\n",
       "      <th>1</th>\n",
       "      <td>vcNAWiLM4dR7D2nwwJ7nCA</td>\n",
       "      <td>2010-03-22</td>\n",
       "      <td>RF6UnRTtG7tWMcrO2GEoAg</td>\n",
       "      <td>2</td>\n",
       "      <td>Unfortunately, the frustration of being Dr. Go...</td>\n",
       "      <td>review</td>\n",
       "      <td>H1kH6QZV7Le4zqTRNxoZow</td>\n",
       "      <td>{'funny': 0, 'useful': 2, 'cool': 0}</td>\n",
       "    </tr>\n",
       "    <tr>\n",
       "      <th>2</th>\n",
       "      <td>vcNAWiLM4dR7D2nwwJ7nCA</td>\n",
       "      <td>2012-02-14</td>\n",
       "      <td>-TsVN230RCkLYKBeLsuz7A</td>\n",
       "      <td>4</td>\n",
       "      <td>Dr. Goldberg has been my doctor for years and ...</td>\n",
       "      <td>review</td>\n",
       "      <td>zvJCcrpm2yOZrxKffwGQLA</td>\n",
       "      <td>{'funny': 0, 'useful': 1, 'cool': 1}</td>\n",
       "    </tr>\n",
       "    <tr>\n",
       "      <th>3</th>\n",
       "      <td>vcNAWiLM4dR7D2nwwJ7nCA</td>\n",
       "      <td>2012-03-02</td>\n",
       "      <td>dNocEAyUucjT371NNND41Q</td>\n",
       "      <td>4</td>\n",
       "      <td>Been going to Dr. Goldberg for over 10 years. ...</td>\n",
       "      <td>review</td>\n",
       "      <td>KBLW4wJA_fwoWmMhiHRVOA</td>\n",
       "      <td>{'funny': 0, 'useful': 0, 'cool': 0}</td>\n",
       "    </tr>\n",
       "    <tr>\n",
       "      <th>4</th>\n",
       "      <td>vcNAWiLM4dR7D2nwwJ7nCA</td>\n",
       "      <td>2012-05-15</td>\n",
       "      <td>ebcN2aqmNUuYNoyvQErgnA</td>\n",
       "      <td>4</td>\n",
       "      <td>Got a letter in the mail last week that said D...</td>\n",
       "      <td>review</td>\n",
       "      <td>zvJCcrpm2yOZrxKffwGQLA</td>\n",
       "      <td>{'funny': 0, 'useful': 2, 'cool': 1}</td>\n",
       "    </tr>\n",
       "  </tbody>\n",
       "</table>\n",
       "</div>"
      ],
      "text/plain": [
       "              business_id        date               review_id  stars  \\\n",
       "0  vcNAWiLM4dR7D2nwwJ7nCA  2007-05-17  15SdjuK7DmYqUAj6rjGowg      5   \n",
       "1  vcNAWiLM4dR7D2nwwJ7nCA  2010-03-22  RF6UnRTtG7tWMcrO2GEoAg      2   \n",
       "2  vcNAWiLM4dR7D2nwwJ7nCA  2012-02-14  -TsVN230RCkLYKBeLsuz7A      4   \n",
       "3  vcNAWiLM4dR7D2nwwJ7nCA  2012-03-02  dNocEAyUucjT371NNND41Q      4   \n",
       "4  vcNAWiLM4dR7D2nwwJ7nCA  2012-05-15  ebcN2aqmNUuYNoyvQErgnA      4   \n",
       "\n",
       "                                                text    type  \\\n",
       "0  dr. goldberg offers everything i look for in a...  review   \n",
       "1  Unfortunately, the frustration of being Dr. Go...  review   \n",
       "2  Dr. Goldberg has been my doctor for years and ...  review   \n",
       "3  Been going to Dr. Goldberg for over 10 years. ...  review   \n",
       "4  Got a letter in the mail last week that said D...  review   \n",
       "\n",
       "                  user_id                                 votes  \n",
       "0  Xqd0DzHaiyRqVH3WRG7hzg  {'funny': 0, 'useful': 2, 'cool': 1}  \n",
       "1  H1kH6QZV7Le4zqTRNxoZow  {'funny': 0, 'useful': 2, 'cool': 0}  \n",
       "2  zvJCcrpm2yOZrxKffwGQLA  {'funny': 0, 'useful': 1, 'cool': 1}  \n",
       "3  KBLW4wJA_fwoWmMhiHRVOA  {'funny': 0, 'useful': 0, 'cool': 0}  \n",
       "4  zvJCcrpm2yOZrxKffwGQLA  {'funny': 0, 'useful': 2, 'cool': 1}  "
      ]
     },
     "execution_count": 6,
     "metadata": {},
     "output_type": "execute_result"
    }
   ],
   "source": [
    "# Print dataframe shape and head\n",
    "print(f\"Shape: {dfYelpReviews.shape}\")\n",
    "dfYelpReviews.head()"
   ]
  },
  {
   "cell_type": "markdown",
   "metadata": {},
   "source": [
    "### Clean Data Set\n",
    "\n",
    "The dataset requires some cleanup. Expanding the `votes` feature and setting `review_id` as the index:"
   ]
  },
  {
   "cell_type": "code",
   "execution_count": 7,
   "metadata": {},
   "outputs": [],
   "source": [
    "# Concatenate columns from expanded `votes` JSON column to dataframe then\n",
    "# delete original column.\n",
    "#\n",
    "# NOTE: Concatenating before chaning index because the expansion of `votes`\n",
    "# maintains order by not the index.\n",
    "dfYelpReviews = pd.concat([\n",
    "    dfYelpReviews,\n",
    "    pd.io.json.json_normalize(dfYelpReviews.votes)\n",
    "], axis=1)\n",
    "del dfYelpReviews[\"votes\"]"
   ]
  },
  {
   "cell_type": "code",
   "execution_count": 8,
   "metadata": {},
   "outputs": [],
   "source": [
    "# Relabel expanded columns for clarity\n",
    "dfYelpReviews.rename(mapper={\n",
    "    \"cool\": \"votes_cool\",\n",
    "    \"funny\": \"votes_funny\",\n",
    "    \"useful\": \"votes_useful\"\n",
    "}, axis=1, inplace=True)"
   ]
  },
  {
   "cell_type": "code",
   "execution_count": 9,
   "metadata": {},
   "outputs": [],
   "source": [
    "# Set `review_id` as index\n",
    "dfYelpReviews.set_index(\"review_id\", inplace=True)"
   ]
  },
  {
   "cell_type": "code",
   "execution_count": 10,
   "metadata": {},
   "outputs": [
    {
     "data": {
      "text/html": [
       "<div>\n",
       "<style scoped>\n",
       "    .dataframe tbody tr th:only-of-type {\n",
       "        vertical-align: middle;\n",
       "    }\n",
       "\n",
       "    .dataframe tbody tr th {\n",
       "        vertical-align: top;\n",
       "    }\n",
       "\n",
       "    .dataframe thead th {\n",
       "        text-align: right;\n",
       "    }\n",
       "</style>\n",
       "<table border=\"1\" class=\"dataframe\">\n",
       "  <thead>\n",
       "    <tr style=\"text-align: right;\">\n",
       "      <th></th>\n",
       "      <th>business_id</th>\n",
       "      <th>date</th>\n",
       "      <th>stars</th>\n",
       "      <th>text</th>\n",
       "      <th>type</th>\n",
       "      <th>user_id</th>\n",
       "      <th>votes_cool</th>\n",
       "      <th>votes_funny</th>\n",
       "      <th>votes_useful</th>\n",
       "    </tr>\n",
       "    <tr>\n",
       "      <th>review_id</th>\n",
       "      <th></th>\n",
       "      <th></th>\n",
       "      <th></th>\n",
       "      <th></th>\n",
       "      <th></th>\n",
       "      <th></th>\n",
       "      <th></th>\n",
       "      <th></th>\n",
       "      <th></th>\n",
       "    </tr>\n",
       "  </thead>\n",
       "  <tbody>\n",
       "    <tr>\n",
       "      <th>15SdjuK7DmYqUAj6rjGowg</th>\n",
       "      <td>vcNAWiLM4dR7D2nwwJ7nCA</td>\n",
       "      <td>2007-05-17</td>\n",
       "      <td>5</td>\n",
       "      <td>dr. goldberg offers everything i look for in a...</td>\n",
       "      <td>review</td>\n",
       "      <td>Xqd0DzHaiyRqVH3WRG7hzg</td>\n",
       "      <td>1</td>\n",
       "      <td>0</td>\n",
       "      <td>2</td>\n",
       "    </tr>\n",
       "    <tr>\n",
       "      <th>RF6UnRTtG7tWMcrO2GEoAg</th>\n",
       "      <td>vcNAWiLM4dR7D2nwwJ7nCA</td>\n",
       "      <td>2010-03-22</td>\n",
       "      <td>2</td>\n",
       "      <td>Unfortunately, the frustration of being Dr. Go...</td>\n",
       "      <td>review</td>\n",
       "      <td>H1kH6QZV7Le4zqTRNxoZow</td>\n",
       "      <td>0</td>\n",
       "      <td>0</td>\n",
       "      <td>2</td>\n",
       "    </tr>\n",
       "    <tr>\n",
       "      <th>-TsVN230RCkLYKBeLsuz7A</th>\n",
       "      <td>vcNAWiLM4dR7D2nwwJ7nCA</td>\n",
       "      <td>2012-02-14</td>\n",
       "      <td>4</td>\n",
       "      <td>Dr. Goldberg has been my doctor for years and ...</td>\n",
       "      <td>review</td>\n",
       "      <td>zvJCcrpm2yOZrxKffwGQLA</td>\n",
       "      <td>1</td>\n",
       "      <td>0</td>\n",
       "      <td>1</td>\n",
       "    </tr>\n",
       "    <tr>\n",
       "      <th>dNocEAyUucjT371NNND41Q</th>\n",
       "      <td>vcNAWiLM4dR7D2nwwJ7nCA</td>\n",
       "      <td>2012-03-02</td>\n",
       "      <td>4</td>\n",
       "      <td>Been going to Dr. Goldberg for over 10 years. ...</td>\n",
       "      <td>review</td>\n",
       "      <td>KBLW4wJA_fwoWmMhiHRVOA</td>\n",
       "      <td>0</td>\n",
       "      <td>0</td>\n",
       "      <td>0</td>\n",
       "    </tr>\n",
       "    <tr>\n",
       "      <th>ebcN2aqmNUuYNoyvQErgnA</th>\n",
       "      <td>vcNAWiLM4dR7D2nwwJ7nCA</td>\n",
       "      <td>2012-05-15</td>\n",
       "      <td>4</td>\n",
       "      <td>Got a letter in the mail last week that said D...</td>\n",
       "      <td>review</td>\n",
       "      <td>zvJCcrpm2yOZrxKffwGQLA</td>\n",
       "      <td>1</td>\n",
       "      <td>0</td>\n",
       "      <td>2</td>\n",
       "    </tr>\n",
       "  </tbody>\n",
       "</table>\n",
       "</div>"
      ],
      "text/plain": [
       "                                   business_id        date  stars  \\\n",
       "review_id                                                           \n",
       "15SdjuK7DmYqUAj6rjGowg  vcNAWiLM4dR7D2nwwJ7nCA  2007-05-17      5   \n",
       "RF6UnRTtG7tWMcrO2GEoAg  vcNAWiLM4dR7D2nwwJ7nCA  2010-03-22      2   \n",
       "-TsVN230RCkLYKBeLsuz7A  vcNAWiLM4dR7D2nwwJ7nCA  2012-02-14      4   \n",
       "dNocEAyUucjT371NNND41Q  vcNAWiLM4dR7D2nwwJ7nCA  2012-03-02      4   \n",
       "ebcN2aqmNUuYNoyvQErgnA  vcNAWiLM4dR7D2nwwJ7nCA  2012-05-15      4   \n",
       "\n",
       "                                                                     text  \\\n",
       "review_id                                                                   \n",
       "15SdjuK7DmYqUAj6rjGowg  dr. goldberg offers everything i look for in a...   \n",
       "RF6UnRTtG7tWMcrO2GEoAg  Unfortunately, the frustration of being Dr. Go...   \n",
       "-TsVN230RCkLYKBeLsuz7A  Dr. Goldberg has been my doctor for years and ...   \n",
       "dNocEAyUucjT371NNND41Q  Been going to Dr. Goldberg for over 10 years. ...   \n",
       "ebcN2aqmNUuYNoyvQErgnA  Got a letter in the mail last week that said D...   \n",
       "\n",
       "                          type                 user_id  votes_cool  \\\n",
       "review_id                                                            \n",
       "15SdjuK7DmYqUAj6rjGowg  review  Xqd0DzHaiyRqVH3WRG7hzg           1   \n",
       "RF6UnRTtG7tWMcrO2GEoAg  review  H1kH6QZV7Le4zqTRNxoZow           0   \n",
       "-TsVN230RCkLYKBeLsuz7A  review  zvJCcrpm2yOZrxKffwGQLA           1   \n",
       "dNocEAyUucjT371NNND41Q  review  KBLW4wJA_fwoWmMhiHRVOA           0   \n",
       "ebcN2aqmNUuYNoyvQErgnA  review  zvJCcrpm2yOZrxKffwGQLA           1   \n",
       "\n",
       "                        votes_funny  votes_useful  \n",
       "review_id                                          \n",
       "15SdjuK7DmYqUAj6rjGowg            0             2  \n",
       "RF6UnRTtG7tWMcrO2GEoAg            0             2  \n",
       "-TsVN230RCkLYKBeLsuz7A            0             1  \n",
       "dNocEAyUucjT371NNND41Q            0             0  \n",
       "ebcN2aqmNUuYNoyvQErgnA            0             2  "
      ]
     },
     "execution_count": 10,
     "metadata": {},
     "output_type": "execute_result"
    }
   ],
   "source": [
    "# Print dataframe head after cleanup\n",
    "dfYelpReviews.head()"
   ]
  },
  {
   "cell_type": "markdown",
   "metadata": {},
   "source": [
    "Set appropriate data types:"
   ]
  },
  {
   "cell_type": "code",
   "execution_count": 11,
   "metadata": {},
   "outputs": [],
   "source": [
    "# Set `date` column data type to datetime\n",
    "dfYelpReviews.date = pd.to_datetime(dfYelpReviews.date, format=\"%Y-%m-%d\")"
   ]
  },
  {
   "cell_type": "code",
   "execution_count": 12,
   "metadata": {},
   "outputs": [],
   "source": [
    "# set `type` column data type to category\n",
    "dfYelpReviews.type = dfYelpReviews.type.astype(\"category\")"
   ]
  },
  {
   "cell_type": "code",
   "execution_count": 13,
   "metadata": {},
   "outputs": [
    {
     "data": {
      "text/plain": [
       "business_id             object\n",
       "date            datetime64[ns]\n",
       "stars                    int64\n",
       "text                    object\n",
       "type                  category\n",
       "user_id                 object\n",
       "votes_cool               int64\n",
       "votes_funny              int64\n",
       "votes_useful             int64\n",
       "dtype: object"
      ]
     },
     "execution_count": 13,
     "metadata": {},
     "output_type": "execute_result"
    }
   ],
   "source": [
    "# Print data types\n",
    "dfYelpReviews.dtypes"
   ]
  },
  {
   "cell_type": "markdown",
   "metadata": {},
   "source": [
    "### Save Pickled Data Set\n",
    "\n",
    "Save the clean data set as a GZIPped pickle to \"/source/{filename}.pkl.gzip\". Not much smaller:"
   ]
  },
  {
   "cell_type": "code",
   "execution_count": 14,
   "metadata": {},
   "outputs": [],
   "source": [
    "dfYelpReviews.to_pickle(PATH_OUTPUT_YELP_REVIEWS)"
   ]
  },
  {
   "cell_type": "code",
   "execution_count": 15,
   "metadata": {},
   "outputs": [
    {
     "name": "stdout",
     "output_type": "stream",
     "text": [
      "Size: 877 MB\n"
     ]
    }
   ],
   "source": [
    "print(f\"Size: {os.path.getsize(PATH_OUTPUT_YELP_REVIEWS) >> 20:,} MB\")"
   ]
  }
 ],
 "metadata": {
  "kernelspec": {
   "display_name": "Python 3",
   "language": "python",
   "name": "python3"
  },
  "language_info": {
   "codemirror_mode": {
    "name": "ipython",
    "version": 3
   },
   "file_extension": ".py",
   "mimetype": "text/x-python",
   "name": "python",
   "nbconvert_exporter": "python",
   "pygments_lexer": "ipython3",
   "version": "3.7.0"
  }
 },
 "nbformat": 4,
 "nbformat_minor": 2
}
