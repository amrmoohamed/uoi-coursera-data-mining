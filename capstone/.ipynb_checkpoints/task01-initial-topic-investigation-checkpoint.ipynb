{
 "cells": [
  {
   "cell_type": "markdown",
   "metadata": {},
   "source": [
    "loganjtravis@gmail.com (Logan Travis)"
   ]
  },
  {
   "cell_type": "code",
   "execution_count": 1,
   "metadata": {},
   "outputs": [],
   "source": [
    "%%capture --no-stdout\n",
    "\n",
    "# Imports; captures errors to supress warnings about changing\n",
    "# import syntax\n",
    "from collections import OrderedDict\n",
    "import os, pickle, random\n",
    "import gensim.models as models, gensim.matutils as matutils, \\\n",
    "        gensim.corpora as corpora\n",
    "import matplotlib.pyplot as plot\n",
    "import nltk\n",
    "import numpy as np\n",
    "import pandas as pd\n",
    "import pyLDAvis.gensim\n",
    "from scipy.sparse import load_npz, save_npz\n",
    "from sklearn.feature_extraction.text import TfidfVectorizer"
   ]
  },
  {
   "cell_type": "code",
   "execution_count": 2,
   "metadata": {},
   "outputs": [],
   "source": [
    "# Set random seed for repeatability\n",
    "random.seed(42)"
   ]
  },
  {
   "cell_type": "code",
   "execution_count": 3,
   "metadata": {},
   "outputs": [],
   "source": [
    "# Set matplotlib to inline to preserve images in PDF\n",
    "%matplotlib inline"
   ]
  },
  {
   "cell_type": "markdown",
   "metadata": {},
   "source": [
    "# Summary\n",
    "\n",
    "From course page [Week 1 > Task 1 Information > Task 1 Overview](https://www.coursera.org/learn/data-mining-project/supplement/z2jpZ/task-1-overview):\n",
    "\n",
    "> The goal of this task is to explore the Yelp data set to get a sense about what the data look like and their characteristics. You can think about the goal as being to answer questions such as:\n",
    "> \n",
    "> 1. What are the major topics in the reviews? Are they different in the positive and negative reviews? Are they different for different cuisines?\n",
    "> 2. What does the distribution of the number of reviews over other variables (e.g., cuisine, location) look like?\n",
    "> 3. What does the distribution of ratings look like?\n",
    ">\n",
    "> In general, you can address such questions by showing visualization of statistics computed based on the data set or topics extracted from review text."
   ]
  },
  {
   "cell_type": "markdown",
   "metadata": {},
   "source": [
    "# Grading Rubric\n",
    "\n",
    "From course page [Week 1 > Task 1 Information > Task 1 Rubric](https://www.coursera.org/learn/data-mining-project/supplement/Xk8lq/task-1-rubric):\n",
    "\n",
    "> You will evaluate your peers' submission for Task 1 using this rubric. While evaluating, consider the following questions:\n",
    "> \n",
    "> * Application of a topic model: Was the description of the topic modeling procedure clear enough such that you can produce the same results?\n",
    "> * Topic visualization: Does the topic visualization effectively display the data?\n",
    "> * Data exploration: Was the description of the two sets of data they selected for comparison clear enough to follow?\n",
    "> * Visualization comparison: Does the visualization component highlight the differences/similarities between the data?\n",
    "> \n",
    "> Note that the examples listed in the \"Excellent\" column are not an exclusive list for each category. You may choose to award 6 points for any effort in your peers' submissions that goes beyond what is required.\n",
    "> \n",
    "> | Criteria | Poor (1 point) | Fair (3 points) | Good (5 points) | Excellent (6 points) |\n",
    "> | --- | --- | --- | --- | --- |\n",
    "> | **Task 1.1: Application of a topic model** | A topic model was either not used or did not generate any topic. | A topic model was used, but the report fails to mention what model was used and/or how it is applied to the data set. | The report clearly explains what topic model was used and how it was applied to the data set. | For example, multiple topic models were used and the report analyzes the differences between them. |\n",
    "> | **Task 1.1: Generated visualization** | The visualization is either absent or useless. | The visualization is present but does not help make clear what topics the people have talked about in the reviews. | The visualization clearly shows and distinguishes what topics people have talked about in the reviews. | For example, multiple visualizations were used and the report analyzes the comparative strengths of each.\n",
    "> | **Task 1.2: Generated sets of topics** | The two subsets are not comparable. | The two subsets are comparable. A topic model was used on the two subsets, but the report fails to mention what model was used and/or how it was applied to the data set. | The two subsets are comparable. The report clearly explains what topic model was used and how it was applied to the two subsets. | For example, multiple interesting subsets were identified and assessed for their usefulness, or multiple topic models were applied to the two subsets with differences between them analyzed.\n",
    "> | **Task 1.2: Visualization of comparison** | The two subsets are visualized in such a way that similarities and differences are not clear. | The two subsets are visualized in such a way to show the similarity of the two subsets, but no attempt was made to show the differences. | The two subsets are visualized in such a way that both similarities and differences are very apparent. | Extra transformation of the data was done to improve visualization, or multiple ways of visualizing the topics were used to provide a very comprehensive comparison.\n",
    "> | **Visualizations: Appropriateness of choice** | The visualization methods are not suitable for the type of data. | The visualization methods are suitable for the type of data, but another way to visualize the data is clearly better. | The visualization methods used are quite suitable for the type of data and made relationships clear. | Furthermore, extra effort was made to make the visualizations beautifully designed and/or usefully interactive."
   ]
  },
  {
   "cell_type": "markdown",
   "metadata": {},
   "source": [
    "# Get Yelp Review Data Set\n",
    "\n",
    "I cleaned the Yelp review data in a separate notebook to shorten this report. \"Cleaned\" only means:\n",
    "\n",
    "* Read the JSON file into a Pandas dataframe\n",
    "* Expanded the `votes` feature from nested JSON into separate features:\n",
    "    * `votes_cool`\n",
    "    * `votes_funny`\n",
    "    * `votes_useful`\n",
    "* Saved the final data frame to a pickle for easy loading"
   ]
  },
  {
   "cell_type": "code",
   "execution_count": 4,
   "metadata": {},
   "outputs": [],
   "source": [
    "# Set paths to data source, work in process (\"WIP\"), and output\n",
    "PATH_SOURCE = \"source/\"\n",
    "PATH_WIP = \"wip/\"\n",
    "PATH_OUTPUT = \"output/\"\n",
    "\n",
    "# Set file paths\n",
    "PATH_SOURCE_YELP_REVIEWS = PATH_SOURCE + \\\n",
    "        \"yelp_academic_dataset_review.pkl.gzip\"\n",
    "PATH_WIP_TOKENIZER = PATH_WIP + \"task01_tokenizer.pkl\"\n",
    "PATH_WIP_TOKEN_MATRIX = PATH_WIP + \"task01_token_matrix.npz\"\n",
    "PATH_WIP_LDA_MODEL = PATH_WIP + \"task01_lda_model\"\n",
    "PATH_WIP_LDA_MODEL_VIS = PATH_WIP + \"task01_lda_model.html\""
   ]
  },
  {
   "cell_type": "code",
   "execution_count": 5,
   "metadata": {},
   "outputs": [],
   "source": [
    "# Read pickled dataframe\n",
    "dfYelpReviews = pd.read_pickle(PATH_SOURCE_YELP_REVIEWS)"
   ]
  },
  {
   "cell_type": "code",
   "execution_count": 6,
   "metadata": {},
   "outputs": [
    {
     "name": "stdout",
     "output_type": "stream",
     "text": [
      "Shape: (1125458, 9)\n"
     ]
    },
    {
     "data": {
      "text/html": [
       "<div>\n",
       "<style scoped>\n",
       "    .dataframe tbody tr th:only-of-type {\n",
       "        vertical-align: middle;\n",
       "    }\n",
       "\n",
       "    .dataframe tbody tr th {\n",
       "        vertical-align: top;\n",
       "    }\n",
       "\n",
       "    .dataframe thead th {\n",
       "        text-align: right;\n",
       "    }\n",
       "</style>\n",
       "<table border=\"1\" class=\"dataframe\">\n",
       "  <thead>\n",
       "    <tr style=\"text-align: right;\">\n",
       "      <th></th>\n",
       "      <th>business_id</th>\n",
       "      <th>date</th>\n",
       "      <th>stars</th>\n",
       "      <th>text</th>\n",
       "      <th>type</th>\n",
       "      <th>user_id</th>\n",
       "      <th>votes_cool</th>\n",
       "      <th>votes_funny</th>\n",
       "      <th>votes_useful</th>\n",
       "    </tr>\n",
       "    <tr>\n",
       "      <th>review_id</th>\n",
       "      <th></th>\n",
       "      <th></th>\n",
       "      <th></th>\n",
       "      <th></th>\n",
       "      <th></th>\n",
       "      <th></th>\n",
       "      <th></th>\n",
       "      <th></th>\n",
       "      <th></th>\n",
       "    </tr>\n",
       "  </thead>\n",
       "  <tbody>\n",
       "    <tr>\n",
       "      <th>15SdjuK7DmYqUAj6rjGowg</th>\n",
       "      <td>vcNAWiLM4dR7D2nwwJ7nCA</td>\n",
       "      <td>2007-05-17</td>\n",
       "      <td>5</td>\n",
       "      <td>dr. goldberg offers everything i look for in a...</td>\n",
       "      <td>review</td>\n",
       "      <td>Xqd0DzHaiyRqVH3WRG7hzg</td>\n",
       "      <td>1</td>\n",
       "      <td>0</td>\n",
       "      <td>2</td>\n",
       "    </tr>\n",
       "    <tr>\n",
       "      <th>RF6UnRTtG7tWMcrO2GEoAg</th>\n",
       "      <td>vcNAWiLM4dR7D2nwwJ7nCA</td>\n",
       "      <td>2010-03-22</td>\n",
       "      <td>2</td>\n",
       "      <td>Unfortunately, the frustration of being Dr. Go...</td>\n",
       "      <td>review</td>\n",
       "      <td>H1kH6QZV7Le4zqTRNxoZow</td>\n",
       "      <td>0</td>\n",
       "      <td>0</td>\n",
       "      <td>2</td>\n",
       "    </tr>\n",
       "    <tr>\n",
       "      <th>-TsVN230RCkLYKBeLsuz7A</th>\n",
       "      <td>vcNAWiLM4dR7D2nwwJ7nCA</td>\n",
       "      <td>2012-02-14</td>\n",
       "      <td>4</td>\n",
       "      <td>Dr. Goldberg has been my doctor for years and ...</td>\n",
       "      <td>review</td>\n",
       "      <td>zvJCcrpm2yOZrxKffwGQLA</td>\n",
       "      <td>1</td>\n",
       "      <td>0</td>\n",
       "      <td>1</td>\n",
       "    </tr>\n",
       "    <tr>\n",
       "      <th>dNocEAyUucjT371NNND41Q</th>\n",
       "      <td>vcNAWiLM4dR7D2nwwJ7nCA</td>\n",
       "      <td>2012-03-02</td>\n",
       "      <td>4</td>\n",
       "      <td>Been going to Dr. Goldberg for over 10 years. ...</td>\n",
       "      <td>review</td>\n",
       "      <td>KBLW4wJA_fwoWmMhiHRVOA</td>\n",
       "      <td>0</td>\n",
       "      <td>0</td>\n",
       "      <td>0</td>\n",
       "    </tr>\n",
       "    <tr>\n",
       "      <th>ebcN2aqmNUuYNoyvQErgnA</th>\n",
       "      <td>vcNAWiLM4dR7D2nwwJ7nCA</td>\n",
       "      <td>2012-05-15</td>\n",
       "      <td>4</td>\n",
       "      <td>Got a letter in the mail last week that said D...</td>\n",
       "      <td>review</td>\n",
       "      <td>zvJCcrpm2yOZrxKffwGQLA</td>\n",
       "      <td>1</td>\n",
       "      <td>0</td>\n",
       "      <td>2</td>\n",
       "    </tr>\n",
       "  </tbody>\n",
       "</table>\n",
       "</div>"
      ],
      "text/plain": [
       "                                   business_id       date  stars  \\\n",
       "review_id                                                          \n",
       "15SdjuK7DmYqUAj6rjGowg  vcNAWiLM4dR7D2nwwJ7nCA 2007-05-17      5   \n",
       "RF6UnRTtG7tWMcrO2GEoAg  vcNAWiLM4dR7D2nwwJ7nCA 2010-03-22      2   \n",
       "-TsVN230RCkLYKBeLsuz7A  vcNAWiLM4dR7D2nwwJ7nCA 2012-02-14      4   \n",
       "dNocEAyUucjT371NNND41Q  vcNAWiLM4dR7D2nwwJ7nCA 2012-03-02      4   \n",
       "ebcN2aqmNUuYNoyvQErgnA  vcNAWiLM4dR7D2nwwJ7nCA 2012-05-15      4   \n",
       "\n",
       "                                                                     text  \\\n",
       "review_id                                                                   \n",
       "15SdjuK7DmYqUAj6rjGowg  dr. goldberg offers everything i look for in a...   \n",
       "RF6UnRTtG7tWMcrO2GEoAg  Unfortunately, the frustration of being Dr. Go...   \n",
       "-TsVN230RCkLYKBeLsuz7A  Dr. Goldberg has been my doctor for years and ...   \n",
       "dNocEAyUucjT371NNND41Q  Been going to Dr. Goldberg for over 10 years. ...   \n",
       "ebcN2aqmNUuYNoyvQErgnA  Got a letter in the mail last week that said D...   \n",
       "\n",
       "                          type                 user_id  votes_cool  \\\n",
       "review_id                                                            \n",
       "15SdjuK7DmYqUAj6rjGowg  review  Xqd0DzHaiyRqVH3WRG7hzg           1   \n",
       "RF6UnRTtG7tWMcrO2GEoAg  review  H1kH6QZV7Le4zqTRNxoZow           0   \n",
       "-TsVN230RCkLYKBeLsuz7A  review  zvJCcrpm2yOZrxKffwGQLA           1   \n",
       "dNocEAyUucjT371NNND41Q  review  KBLW4wJA_fwoWmMhiHRVOA           0   \n",
       "ebcN2aqmNUuYNoyvQErgnA  review  zvJCcrpm2yOZrxKffwGQLA           1   \n",
       "\n",
       "                        votes_funny  votes_useful  \n",
       "review_id                                          \n",
       "15SdjuK7DmYqUAj6rjGowg            0             2  \n",
       "RF6UnRTtG7tWMcrO2GEoAg            0             2  \n",
       "-TsVN230RCkLYKBeLsuz7A            0             1  \n",
       "dNocEAyUucjT371NNND41Q            0             0  \n",
       "ebcN2aqmNUuYNoyvQErgnA            0             2  "
      ]
     },
     "execution_count": 6,
     "metadata": {},
     "output_type": "execute_result"
    }
   ],
   "source": [
    "# Print dataframe shape and head\n",
    "print(f\"Shape: {dfYelpReviews.shape}\")\n",
    "dfYelpReviews.head()"
   ]
  },
  {
   "cell_type": "markdown",
   "metadata": {},
   "source": [
    "# Calculate TF-IDF\n",
    "\n",
    "I separated calculating TF-IDF from building models. The [GenSim package](https://radimrehurek.com/gensim/index.html) includes several models (e.g., [LDA](https://radimrehurek.com/gensim/models/ldamodel.html), [random projections](https://radimrehurek.com/gensim/models/rpmodel.html), and [LSI](https://radimrehurek.com/gensim/models/lsimodel.html)) that all accepts a TF-IDF matrix as input. **However**, I had to make early parameter decisions to keep the data size manageable (using an AWS EC2 t3.large instance). My first LDA model ran out of memory!\n",
    "\n",
    "I therefore tested againts a tiny subset (0.1%) of the Yelp reviews. After producing several LDA models (my focus), I determined a reasonble set of constraints for TF-IDF:\n",
    "\n",
    "* Limit maximum tokens (more on \"tokens\" versus \"words\" below) to 10,000. This is an extreme upper limit. The SciKit Learn `TfidfVectorizer` class ([link to documentation](http://scikit-learn.org/stable/modules/generated/sklearn.feature_extraction.text.TfidfVectorizer.html)) never yielded more than 5,000 tokens based on my other parameters. Most runs identified approx. 1,000 tokens.\n",
    "* Exclude tokens appearing in more than 50% of documents. These add little value for differntiating topics.\n",
    "* Exclude tokens appearing in less than 1% of documents. I tested many settings for this parameter ranging down to 2 documents and up to 10% of all documents. The Yelp reviews include numerious limited-use terms (e.g., people and place names) and I found it difficult to interpret the topics with too many present."
   ]
  },
  {
   "cell_type": "code",
   "execution_count": 7,
   "metadata": {},
   "outputs": [],
   "source": [
    "# Set flag to load token matrix from file if found; set this to\n",
    "# False when changing other parameters\n",
    "load_token_matrix_from_file = False\n",
    "overwrite_saved_token_matrix = not load_token_matrix_from_file\n",
    "\n",
    "# Set token limit\n",
    "max_features = 10000\n",
    "\n",
    "# Set document frequency ceiling; topic analysis will ignore\n",
    "# words found in more documents\n",
    "max_df = 0.5\n",
    "\n",
    "# Set document frequency floor; topic analysis will ignore\n",
    "# words found in fewer document\n",
    "min_df = 0.01"
   ]
  },
  {
   "cell_type": "markdown",
   "metadata": {},
   "source": [
    "## Custom Tokenizer\n",
    "\n",
    "The SciKit Learn `TfidfVectorizer` class has a default pre-processor and tokenizer. While the pre-processing steps met my needs the tokenizer did not lemmatize nor stem words. Those two additional steps produced more stable topics. I therefore created my own tokenizer.\n",
    "\n",
    "**Note:** I created `MyTokenizer` as a class to internalize instantiation of NLK's `WordNetLemmatizer` ([link to documentation](https://www.nltk.org/api/nltk.stem.html?highlight=wordnetlemmatizer#nltk.stem.wordnet.WordNetLemmatizer))."
   ]
  },
  {
   "cell_type": "code",
   "execution_count": 8,
   "metadata": {},
   "outputs": [],
   "source": [
    "class MyTokenizer:\n",
    "    def __init__(self):\n",
    "        \"\"\"String tokenizer utilizing lemmatizing and stemming.\"\"\"\n",
    "        self.wnl = nltk.stem.WordNetLemmatizer()\n",
    "    \n",
    "    def __call__(self, document):\n",
    "        \"\"\"Return tokens from a string.\"\"\"\n",
    "        return [self.wnl.lemmatize(token) for \\\n",
    "                        token in nltk.word_tokenize(document)]"
   ]
  },
  {
   "cell_type": "code",
   "execution_count": 9,
   "metadata": {},
   "outputs": [],
   "source": [
    "# Create TF-IDF vectorizer \n",
    "vectorizer = TfidfVectorizer(max_features=max_features, \\\n",
    "                             max_df=max_df, min_df=min_df, \\\n",
    "                             stop_words=\"english\", \\\n",
    "                             use_idf=True, \\\n",
    "                             tokenizer=MyTokenizer())"
   ]
  },
  {
   "cell_type": "markdown",
   "metadata": {},
   "source": [
    "## Excessive Data Set Size\n",
    "\n",
    "Setting parameters to limit excessively in/frequent tokens helped to manage overall data size. Unfortunately, both proved insufficient to permit the LDA model to fit within the memory available on my machine. I therefore worked on a 30% sample of the Yelp review data set."
   ]
  },
  {
   "cell_type": "code",
   "execution_count": 10,
   "metadata": {},
   "outputs": [],
   "source": [
    "# Set working dataframe to a 30% sample of the full data set;\n",
    "# too large otherwise\n",
    "df = dfYelpReviews.sample(frac=0.3)"
   ]
  },
  {
   "cell_type": "code",
   "execution_count": 11,
   "metadata": {},
   "outputs": [
    {
     "name": "stdout",
     "output_type": "stream",
     "text": [
      "Calculating TF-IDF to build token matrix...\n",
      "CPU times: user 7min 49s, sys: 6.33 s, total: 7min 55s\n",
      "Wall time: 8min 8s\n"
     ]
    }
   ],
   "source": [
    "%%time\n",
    "\n",
    "# Load token matrix and vectorizer from file if found and\n",
    "# flag set to permit; otherwise calculate new TF-IDF\n",
    "tokenMatrix = None\n",
    "if(load_token_matrix_from_file and \\\n",
    "   os.path.isfile(PATH_WIP_TOKEN_MATRIX) and \n",
    "   os.path.isfile(PATH_WIP_TOKENIZER)):\n",
    "    print(f\"Loading token matrix from file \\\"{PATH_WIP_TOKEN_MATRIX}\\\"...\")\n",
    "    tokenMatrix = load_npz(PATH_WIP_TOKEN_MATRIX)\n",
    "    \n",
    "    print(f\"Loading vectorizer from file \\\"{PATH_WIP_TOKENIZER}\\\"...\")\n",
    "    f = open(PATH_WIP_TOKENIZER, \"rb\")\n",
    "    vectorizer = pickle.load(f)\n",
    "    f.close()\n",
    "else:\n",
    "    print(\"Calculating TF-IDF to build token matrix...\")\n",
    "    tokenMatrix = vectorizer.fit_transform(df.text)\n",
    "    overwrite_saved_token_matrix = True"
   ]
  },
  {
   "cell_type": "code",
   "execution_count": 12,
   "metadata": {},
   "outputs": [
    {
     "name": "stdout",
     "output_type": "stream",
     "text": [
      "Found 896 tokens in 337,637 documents\n"
     ]
    }
   ],
   "source": [
    "# Print token matrix shape\n",
    "print(\"Found {0[1]:,} tokens in {0[0]:,} documents\".format(tokenMatrix.shape))"
   ]
  },
  {
   "cell_type": "code",
   "execution_count": 13,
   "metadata": {},
   "outputs": [],
   "source": [
    "# Save token matrix and vectorizer to file if changed\n",
    "if(overwrite_saved_token_matrix):\n",
    "    save_npz(PATH_WIP_TOKEN_MATRIX, tokenMatrix)\n",
    "    f = open(PATH_WIP_TOKENIZER, \"wb\")\n",
    "    pickle.dump(vectorizer, f)\n",
    "    f.close()"
   ]
  },
  {
   "cell_type": "markdown",
   "metadata": {},
   "source": [
    "# Find Topics Using LDA\n",
    "\n",
    "I focused on Latent Dirichlet Allocation. I used it in other Coursera classes and feel comfortable with its basic premise. Similar to calculating TF-IDF, I adjusted several parameters using a tiny subset (0.1%) of the Yelp reviews:\n",
    "\n",
    "* Set number of topics to 50\n",
    "* Display topics using their 5 most frequent tokens"
   ]
  },
  {
   "cell_type": "code",
   "execution_count": 14,
   "metadata": {},
   "outputs": [],
   "source": [
    "# Set flag to load LDA model from file if found; set this to\n",
    "# False when changing other parameters\n",
    "load_lda_model_from_file = True and load_token_matrix_from_file\n",
    "overwrite_saved_lda_model = not load_lda_model_from_file\n",
    "\n",
    "# Set number of topics\n",
    "num_topics = 50\n",
    "\n",
    "# Set number of words to display for each topic\n",
    "num_words = 5"
   ]
  },
  {
   "cell_type": "code",
   "execution_count": 15,
   "metadata": {},
   "outputs": [],
   "source": [
    "# Convert GenSim corpus from token matrix\n",
    "corpus = matutils.Sparse2Corpus(tokenMatrix, documents_columns=False)"
   ]
  },
  {
   "cell_type": "code",
   "execution_count": 16,
   "metadata": {},
   "outputs": [],
   "source": [
    "# Create a GenSim dictionary for documents; Note: Passes the\n",
    "# vectorizer tokens as a single \"document\".\n",
    "dictionary = corpora.Dictionary([vectorizer.get_feature_names()])"
   ]
  },
  {
   "cell_type": "code",
   "execution_count": 18,
   "metadata": {},
   "outputs": [
    {
     "name": "stdout",
     "output_type": "stream",
     "text": [
      "Finding topics using LDA...\n",
      "CPU times: user 1min 20s, sys: 11.3 s, total: 1min 31s\n",
      "Wall time: 1min 32s\n"
     ]
    }
   ],
   "source": [
    "%%time\n",
    "%%capture --no-stdout\n",
    "\n",
    "# Load LDA model form file if found and flag set to permit;\n",
    "# otherwise find topics\n",
    "lda = None\n",
    "if(load_lda_model_from_file and \\\n",
    "   os.path.isfile(PATH_WIP_LDA_MODEL)):\n",
    "    print(f\"Loading LDA model from \\\"{PATH_WIP_LDA_MODEL}\\\"...\")\n",
    "    lda = models.ldamulticore.LdaMulticore.load(PATH_WIP_LDA_MODEL)\n",
    "else:\n",
    "    print(\"Finding topics using LDA...\")\n",
    "    lda = models.ldamulticore.LdaMulticore(corpus, \\\n",
    "                                           num_topics=num_topics,\n",
    "                                           id2word=dict(dictionary.items()))\n",
    "    overwrite_saved_lda_model = True"
   ]
  },
  {
   "cell_type": "code",
   "execution_count": 19,
   "metadata": {},
   "outputs": [
    {
     "data": {
      "text/plain": [
       "[(0,\n",
       "  '0.065*\"coffee\" + 0.018*\"tea\" + 0.012*\"place\" + 0.012*\"\\'s\" + 0.012*\"shop\"'),\n",
       " (1,\n",
       "  '0.015*\"helped\" + 0.011*\"foot\" + 0.011*\"great\" + 0.010*\"time\" + 0.009*\"funny\"'),\n",
       " (2,\n",
       "  '0.031*\"room\" + 0.026*\"hotel\" + 0.018*\"casino\" + 0.014*\"strip\" + 0.013*\"stay\"'),\n",
       " (3,\n",
       "  '0.088*\"pizza\" + 0.013*\"slice\" + 0.012*\"crust\" + 0.012*\"\\'s\" + 0.012*\"pie\"'),\n",
       " (4,\n",
       "  '0.027*\"mexican\" + 0.025*\"salsa\" + 0.023*\"chip\" + 0.021*\"margarita\" + 0.017*\"food\"')]"
      ]
     },
     "execution_count": 19,
     "metadata": {},
     "output_type": "execute_result"
    }
   ],
   "source": [
    "# Print a few topics for sanity check\n",
    "lda.show_topics(num_topics=num_topics, num_words=num_words)[:5]"
   ]
  },
  {
   "cell_type": "code",
   "execution_count": 20,
   "metadata": {},
   "outputs": [],
   "source": [
    "# Save LDA model to file if changed\n",
    "if(overwrite_saved_lda_model):\n",
    "    lda.save(PATH_WIP_LDA_MODEL)"
   ]
  },
  {
   "cell_type": "markdown",
   "metadata": {},
   "source": [
    "# Graphing Topics from LDA\n",
    "\n",
    "Priting the most frequent tokens of topics as I did above provides a useful sanity check. However, it does not clarify the relation between topics nor provide a means of exploring them. The *awesome* [pyLDAvis package](https://github.com/bmabey/pyLDAvis) does and includes easy integration with GenSim models.\n",
    "\n",
    "...but I cannot save the output to PDF! I encourage you to check ouT pyLDAvis. For this assignment, I embedded representative images."
   ]
  },
  {
   "cell_type": "code",
   "execution_count": 21,
   "metadata": {},
   "outputs": [],
   "source": [
    "%%capture --no-stdout\n",
    "\n",
    "# Prepare visualization\n",
    "vis = pyLDAvis.gensim.prepare(lda, corpus, dictionary)"
   ]
  },
  {
   "cell_type": "code",
   "execution_count": 22,
   "metadata": {},
   "outputs": [],
   "source": [
    "# Save visualization to file for later image extraction then\n",
    "# display inline; inline display will not save to PDF\n",
    "pyLDAvis.save_html(vis, PATH_WIP_LDA_MODEL_VIS)\n",
    "# pyLDAvis.display(vis)"
   ]
  },
  {
   "cell_type": "markdown",
   "metadata": {},
   "source": [
    "## Most Topics Suggest a Type of Business\n",
    "\n",
    "The top terms for most topics suggest a type of business such as hotel or mexican restaurant. Each topic includes keywords for both positive and negative sentiment. Please see examples below. Such topics intuitively makes sense to me. Most Yelp reviews describe the business and its services. Those terms often overwhelm sentiment-related terms.\n",
    "\n",
    "**Note:** I apologize for images appearing on later pages. I spent 30 minutes trying to get the Jupyter save to PDF working. This was my best result."
   ]
  },
  {
   "cell_type": "markdown",
   "metadata": {},
   "source": [
    "### Example Topic Suggesting Hotel\n",
    "\n",
    "![lda-model-example-hotel](ntbk-imgs/task01-lda-model-example-hotel.PNG \"Example LDA topic suggesting hotel\")"
   ]
  },
  {
   "cell_type": "markdown",
   "metadata": {},
   "source": [
    "### Example Topic Suggesting Mexican Cuisine\n",
    "\n",
    "![lda-model-example-mexican-cuisine](ntbk-imgs/task01-lda-model-example-mexican-cuisine.PNG \"Example LDA topic suggesting mexican cuisine\")"
   ]
  },
  {
   "cell_type": "markdown",
   "metadata": {},
   "source": [
    "## Not All Topics Make Obvious Sense\n",
    "\n",
    "The top terms for a topic do not always suggest a real-world categorization. The example below includes one or two terms related to but many more relating to sentiment. I suspect such topics capture terse reviews such as \"great food\" and \"terrible service.\"\n",
    "\n",
    "![lda-model-example-unclear](ntbk-imgs/task01-lda-model-example-unclear.PNG \"Example LDA topic with no clear suggestion\")"
   ]
  },
  {
   "cell_type": "markdown",
   "metadata": {},
   "source": [
    "# Compare Useful Versus Not Useful Reviews\n",
    "\n",
    "Each review in the Yelp data set includes votes for cool, funny, and useful. I thought comparing topics generated from useful versus not useful would prove... useful!"
   ]
  },
  {
   "cell_type": "code",
   "execution_count": 23,
   "metadata": {},
   "outputs": [],
   "source": [
    "# Get indices for Yelp reviws split by useful versus not\n",
    "# useful reviews\n",
    "df[\"row_num\"] = range(df.shape[0])\n",
    "idxUseful = list(df[\"row_num\"][df[\"votes_useful\"] > 0])\n",
    "idxNotUseful = list(df[\"row_num\"][df[\"votes_useful\"] == 0])"
   ]
  },
  {
   "cell_type": "code",
   "execution_count": 24,
   "metadata": {},
   "outputs": [],
   "source": [
    "# Create separate corpi from useful versus not useful reviews\n",
    "corpusUseful = matutils.Sparse2Corpus(tokenMatrix[idxUseful, :], \\\n",
    "                                      documents_columns=False)\n",
    "corpusNotUseful = matutils.Sparse2Corpus(tokenMatrix[idxNotUseful, :], \\\n",
    "                                         documents_columns=False)"
   ]
  },
  {
   "cell_type": "code",
   "execution_count": 25,
   "metadata": {},
   "outputs": [
    {
     "name": "stdout",
     "output_type": "stream",
     "text": [
      "The data set has 165,231 useful and 172,406 not useful reviews.\n"
     ]
    }
   ],
   "source": [
    "# Print the number of reviews in each corpus\n",
    "print(\"The data set has {:,} useful and {:,} not useful reviews.\".format(len(corpusUseful), len(corpusNotUseful)))"
   ]
  },
  {
   "cell_type": "markdown",
   "metadata": {},
   "source": [
    "The subsets of useful and not useful reviews appear roughly equal. Their similar size should improve the comparability of the resulting topic models."
   ]
  },
  {
   "cell_type": "markdown",
   "metadata": {},
   "source": [
    "## Find Topics Using LDA\n",
    "\n",
    "I stuck with LDA for finding topics in useful and not useful subsets. It makes results easier to compare to the topics generated from the full dat set."
   ]
  },
  {
   "cell_type": "code",
   "execution_count": 26,
   "metadata": {},
   "outputs": [
    {
     "name": "stdout",
     "output_type": "stream",
     "text": [
      "Finding topics from useful reviews...\n",
      "CPU times: user 48.6 s, sys: 11.9 s, total: 1min\n",
      "Wall time: 59.1 s\n"
     ]
    }
   ],
   "source": [
    "%%time\n",
    "%%capture --no-stdout\n",
    "\n",
    "# Find topics from useful reviews\n",
    "print(\"Finding topics from useful reviews...\")\n",
    "ldaUseful = models.ldamulticore.LdaMulticore(corpusUseful, \\\n",
    "                                             num_topics=num_topics, \\\n",
    "                                             id2word=dict(dictionary.items()))"
   ]
  },
  {
   "cell_type": "code",
   "execution_count": 27,
   "metadata": {},
   "outputs": [
    {
     "name": "stdout",
     "output_type": "stream",
     "text": [
      "Finding topics from not useful reviews...\n",
      "CPU times: user 30.6 s, sys: 9.11 s, total: 39.8 s\n",
      "Wall time: 39.1 s\n"
     ]
    }
   ],
   "source": [
    "%%time\n",
    "%%capture --no-stdout\n",
    "\n",
    "# Find topics from not useful reviews\n",
    "print(\"Finding topics from not useful reviews...\")\n",
    "ldaNotUseful = models.ldamulticore.LdaMulticore(corpusNotUseful, \\\n",
    "                                                num_topics=num_topics,\n",
    "                                                id2word=dict(dictionary.items()))"
   ]
  },
  {
   "cell_type": "markdown",
   "metadata": {},
   "source": [
    "## Graph Terms, Topics, and Models\n",
    "\n",
    "The [pyLDAvis package](https://github.com/bmabey/pyLDAvis) does not help compare different topic models. I instead graphed the top terms across topics and models. Side-by-side comparison of the term distributions revealed similarities and differences between models."
   ]
  },
  {
   "cell_type": "code",
   "execution_count": 30,
   "metadata": {},
   "outputs": [],
   "source": [
    "# Complile a set of all top-N tokens from each topic\n",
    "token_set = set()\n",
    "getTopNTokens = lambda m, topn: [w[0] for t in range(m.num_topics) \\\n",
    "                                 for w in m.get_topic_terms(t, topn)]\n",
    "token_set.update(getTopNTokens(ldaUseful, num_words))\n",
    "token_set.update(getTopNTokens(ldaNotUseful, num_words))"
   ]
  },
  {
   "cell_type": "code",
   "execution_count": 31,
   "metadata": {},
   "outputs": [],
   "source": [
    "# Create a dataframe from token IDs to more easily\n",
    "# manage related data\n",
    "dfCompare = pd.DataFrame(list(token_set), columns=[\"token_id\"])"
   ]
  },
  {
   "cell_type": "code",
   "execution_count": 32,
   "metadata": {},
   "outputs": [],
   "source": [
    "# Add column for token from ID\n",
    "dfCompare[\"token\"] = dfCompare.token_id.apply(lambda i: dictionary[i])"
   ]
  },
  {
   "cell_type": "code",
   "execution_count": 33,
   "metadata": {},
   "outputs": [],
   "source": [
    "# Create functions to count number of topics and sum\n",
    "# distribution by token\n",
    "#\n",
    "# Note: Set `minimum_probability` parameter for `get_term_topics`\n",
    "# to zero because default must be much higher. Not documented.\n",
    "countTermTopics = lambda w, m: len(m.get_term_topics(w, 0))\n",
    "sumTermTopicDist = lambda w, m: 0 if m.get_term_topics(w, 0) is None else \\\n",
    "                                sum([t[1] for t in m.get_term_topics(w, 0)]) "
   ]
  },
  {
   "cell_type": "code",
   "execution_count": 34,
   "metadata": {},
   "outputs": [],
   "source": [
    "# Add columns counting and summing distributions for\n",
    "# useful topics\n",
    "dfCompare[\"count_useful\"] = dfCompare.token_id.apply(lambda i: countTermTopics(i, ldaUseful))\n",
    "dfCompare[\"dist_useful\"] = dfCompare.token_id.apply(lambda i: sumTermTopicDist(i, ldaUseful))"
   ]
  },
  {
   "cell_type": "code",
   "execution_count": 35,
   "metadata": {},
   "outputs": [],
   "source": [
    "# Add columns counting and summing distributions for\n",
    "# not useful topics\n",
    "dfCompare[\"count_not_useful\"] = dfCompare.token_id.apply(lambda i: countTermTopics(i, ldaNotUseful))\n",
    "dfCompare[\"dist_not_useful\"] = dfCompare.token_id.apply(lambda i: sumTermTopicDist(i, ldaNotUseful))"
   ]
  },
  {
   "cell_type": "code",
   "execution_count": 36,
   "metadata": {},
   "outputs": [],
   "source": [
    "# Set tokens and reset index\n",
    "dfCompare.sort_values(\"token\", ascending=False, inplace=True)\n",
    "dfCompare.reset_index(drop=True, inplace=True)"
   ]
  },
  {
   "cell_type": "code",
   "execution_count": 41,
   "metadata": {},
   "outputs": [],
   "source": [
    "# A single chart, while easier to view in Jupyter, looks terrible\n",
    "# as a PDF. The helper function below will create the same chart\n",
    "# for a subset of tokens.\n",
    "def splitGraph(startTokenID, endTokenID):\n",
    "    \"\"\"Create chart for subset of useful versus not useful term-topic distribution\"\"\"\n",
    "    fig, ax = plot.subplots()\n",
    "    fig.set_size_inches(8, 11)\n",
    "\n",
    "    # Add horizontal bars\n",
    "    index = np.array(dfCompare.index)[startTokenID:endTokenID]\n",
    "    width = 0.5\n",
    "    gap = width / 5\n",
    "    barsUseful = ax.barh(index+width, \\\n",
    "                         list(dfCompare.dist_useful)[startTokenID:endTokenID], \\\n",
    "                         width-gap, label=\"Useful Reviews\", align=\"edge\", \\\n",
    "                         color=\"#cc474d\")\n",
    "    barsNotUseful = ax.barh(index+gap,\n",
    "                            list(dfCompare.dist_not_useful)[startTokenID:endTokenID], \\\n",
    "                            width-gap, label=\"Not Useful Reviews\", align=\"edge\", \\\n",
    "                            color=\"#a5c9e1\")\n",
    "\n",
    "    # Configure horizontal axis at top\n",
    "    ax.set_xlabel(\"Term Distribution Across Topics\")\n",
    "    ax.xaxis.set_label_position(\"top\")\n",
    "    ax.xaxis.tick_top()\n",
    "\n",
    "    # Configure vertical axis with token labels\n",
    "    ax.set_ylabel(\"Tokens\")\n",
    "#     ax.set_ylim(2*width-1, len(index))\n",
    "    plot.yticks(index+width, dfCompare.token[startTokenID:endTokenID])\n",
    "\n",
    "    # Enable legend\n",
    "    ax.legend(loc=1)\n",
    "\n",
    "    # Return plot\n",
    "    return plot"
   ]
  },
  {
   "cell_type": "code",
   "execution_count": 42,
   "metadata": {},
   "outputs": [
    {
     "data": {
      "image/png": "[encoded data removed]",
      "text/plain": [
       "<Figure size 576x792 with 1 Axes>"
      ]
     },
     "metadata": {
      "needs_background": "light"
     },
     "output_type": "display_data"
    }
   ],
   "source": [
    "# First subset\n",
    "step = int(dfCompare.shape[0] / 3)\n",
    "stop = dfCompare.shape[0]\n",
    "start = stop - step\n",
    "plot.show(splitGraph(start, stop))"
   ]
  },
  {
   "cell_type": "code",
   "execution_count": 43,
   "metadata": {},
   "outputs": [
    {
     "data": {
      "image/png": "[encoded data removed]",
      "text/plain": [
       "<Figure size 576x792 with 1 Axes>"
      ]
     },
     "metadata": {
      "needs_background": "light"
     },
     "output_type": "display_data"
    }
   ],
   "source": [
    "# Second subset\n",
    "stop = start\n",
    "start = stop - step\n",
    "plot.show(splitGraph(start, stop))"
   ]
  },
  {
   "cell_type": "code",
   "execution_count": 44,
   "metadata": {},
   "outputs": [
    {
     "data": {
      "image/png": "[encoded data removed]",
      "text/plain": [
       "<Figure size 576x792 with 1 Axes>"
      ]
     },
     "metadata": {
      "needs_background": "light"
     },
     "output_type": "display_data"
    }
   ],
   "source": [
    "# Third (final) subset\n",
    "stop = start\n",
    "start = 0\n",
    "plot.show(splitGraph(start, stop))"
   ]
  },
  {
   "cell_type": "markdown",
   "metadata": {},
   "source": [
    "The resulting models are similar but not identical. They differ most significantly on semantic words like \"good\" and \"love\". They also differ on low-utility words like \"place\". Interestingly, the not useful reviews include both low-utility *and semantic* words as a higher proportion of their topic distributions.\n",
    "\n",
    "The higher proportion of low-utilitly words makes sense; generic reviews should garner few votes for usefulness. I do not fully understand the higher proportion of semantic words. Perhaps the difference relates to my earlier supposition on \"terse\" reviews. Such reviews (e.g., \"great food\" and \"terrible service\") might receive fewer votes as useful."
   ]
  }
 ],
 "metadata": {
  "kernelspec": {
   "display_name": "Python 3",
   "language": "python",
   "name": "python3"
  },
  "language_info": {
   "codemirror_mode": {
    "name": "ipython",
    "version": 3
   },
   "file_extension": ".py",
   "mimetype": "text/x-python",
   "name": "python",
   "nbconvert_exporter": "python",
   "pygments_lexer": "ipython3",
   "version": "3.7.0"
  }
 },
 "nbformat": 4,
 "nbformat_minor": 2
}
