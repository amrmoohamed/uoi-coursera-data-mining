{
 "cells": [
  {
   "cell_type": "markdown",
   "metadata": {},
   "source": [
    "loganjtravis@gmail.com (Logan Travis)"
   ]
  },
  {
   "cell_type": "code",
   "execution_count": 1,
   "metadata": {},
   "outputs": [],
   "source": [
    "%%capture --no-stdout\n",
    "\n",
    "# Imports; captures errors to supress warnings about changing\n",
    "# import syntax\n",
    "from lxml import html\n",
    "import matplotlib.pyplot as plot\n",
    "import nltk\n",
    "import numpy as np\n",
    "import pandas as pd\n",
    "import random\n",
    "import re\n",
    "import wikipediaapi"
   ]
  },
  {
   "cell_type": "code",
   "execution_count": 2,
   "metadata": {},
   "outputs": [],
   "source": [
    "# Set random seed for repeatability\n",
    "random.seed(42)"
   ]
  },
  {
   "cell_type": "code",
   "execution_count": 3,
   "metadata": {},
   "outputs": [],
   "source": [
    "# Set matplotlib to inline to preserve images in PDF\n",
    "%matplotlib inline"
   ]
  },
  {
   "cell_type": "markdown",
   "metadata": {},
   "source": [
    "# Summary\n",
    "\n",
    "From course page [Week 3 > Task 3 Information > Task 3 Overview](https://www.coursera.org/learn/data-mining-project/supplement/7Ro4J/task-3-overview):\n",
    "\n",
    "> The goal of this task is to mine the data set to discover the common/popular dishes of a particular cuisine. Typically when you go to try a new cuisine, you don’t know beforehand the types of dishes that are available for that cuisine. For this task, we would like to identify the dishes that are available for a cuisine by building a dish recognizer.\n",
    "> \n",
    "> **Instructions**\n",
    ">\n",
    "> Before you begin, make sure you have downloaded the data set and any additional tools you wish to use, as described on the [Data Set and Toolkit Acquisition](https://www.coursera.org/learn/data-mining-project/supplement/Ij7rp/data-set-and-toolkit-acquisition) page.\n",
    "> \n",
    "> Some questions to consider when building the dish recognizer are the following:\n",
    "> \n",
    "> 1. What types of dishes are present in the reviews for a cuisine?\n",
    "> 2. Are there any surprising dishes in the list you annotated?\n",
    "> 3. What types of dishes were you able to find?"
   ]
  },
  {
   "cell_type": "markdown",
   "metadata": {},
   "source": [
    "# Clean List of Dishes for Mexican Cuisine\n",
    "\n",
    "I chose to explore dishes for Mexican cuisine. I both enjoy Mexican food and thought the use of Spanish words might yield interesting results."
   ]
  },
  {
   "cell_type": "code",
   "execution_count": 4,
   "metadata": {},
   "outputs": [],
   "source": [
    "# Set paths to data source, work in process (\"WIP\"), and output\n",
    "PATH_SOURCE = \"source/\"\n",
    "PATH_WIP = \"wip/\"\n",
    "PATH_OUTPUT = \"output/\"\n",
    "\n",
    "# Set file paths\n",
    "PATH_SOURCE_MEXICAN_LABELS = PATH_SOURCE + \"labels/Mexican.label\"\n",
    "PATH_SOURCE_MEXICAN_TO_DEL = PATH_SOURCE + \"labels/Mexican_TO_DEL.label\"\n",
    "PATH_SOURCE_MEXICAN_TO_FLIP = PATH_SOURCE + \"labels/Mexican_TO_FLIP.label\"\n",
    "PATH_SOURCE_YELP_REVIEWS = PATH_SOURCE + \\\n",
    "        \"yelp_academic_dataset_review.pkl.gzip\"\n",
    "PATH_SOURCE_YELP_REST_TO_CUISINES = PATH_SOURCE + \\\n",
    "        \"yelp_academic_dataset_restaurant_to_cuisine.pkl.gzip\"\n",
    "PATH_WIP_YELP_REVIEWS_MEXICAN = PATH_WIP + \\\n",
    "        \"yelp_academic_dataset_review_mexican_corpus.txt\"\n",
    "PATH_WIP_MEXICAN_FINAL = PATH_WIP + \"labels/Mexican_FINAL.label\"\n",
    "\n",
    "# Set paths to AutoPhrase output\n",
    "AUTOPHRASE_LOG = \"AutoPhrase/models/yelp_mexican_dishes/log.txt\"\n",
    "AUTOPHRASE_RESULTS = \"AutoPhrase/models/yelp_mexican_dishes/AutoPhrase.txt\"\n",
    "AUTOPHRASE_RESULTS_BLIND = \"AutoPhrase/models/yelp_mexican_dishes_blind/AutoPhrase.txt\""
   ]
  },
  {
   "cell_type": "markdown",
   "metadata": {},
   "source": [
    "## Inspect Provided List\n",
    "\n",
    "The assignment included an initial list a list of frequent phrases for Mexican cuisine tagged with either a 1 to indicate a *potential* dish name or 0 to indicate a non-dish phrase. I emphasize \"potential\" because a cursory glance reveals non-dish phrases like \"in n out\" and \"service stars\"."
   ]
  },
  {
   "cell_type": "code",
   "execution_count": 5,
   "metadata": {},
   "outputs": [],
   "source": [
    "# Read initial dish list for Mexican cuisine\n",
    "dfMexDishes = pd.read_csv(PATH_SOURCE_MEXICAN_LABELS, sep=\"\\t\", names=[\"dish\", \"include\"])"
   ]
  },
  {
   "cell_type": "code",
   "execution_count": 6,
   "metadata": {},
   "outputs": [],
   "source": [
    "# Make `dish` column the index\n",
    "dfMexDishes.set_index(\"dish\", inplace=True)"
   ]
  },
  {
   "cell_type": "code",
   "execution_count": 7,
   "metadata": {},
   "outputs": [],
   "source": [
    "# Set `include` column to boolean data type\n",
    "dfMexDishes.include = dfMexDishes.include.astype(np.bool_,)"
   ]
  },
  {
   "cell_type": "code",
   "execution_count": 8,
   "metadata": {},
   "outputs": [
    {
     "name": "stdout",
     "output_type": "stream",
     "text": [
      "---INITIAL---\n",
      "Dish list has shape (597, 1) with 200 dishes to include and 397 common phrases to exclude as dishes.\n"
     ]
    },
    {
     "data": {
      "text/html": [
       "<div>\n",
       "<style scoped>\n",
       "    .dataframe tbody tr th:only-of-type {\n",
       "        vertical-align: middle;\n",
       "    }\n",
       "\n",
       "    .dataframe tbody tr th {\n",
       "        vertical-align: top;\n",
       "    }\n",
       "\n",
       "    .dataframe thead th {\n",
       "        text-align: right;\n",
       "    }\n",
       "</style>\n",
       "<table border=\"1\" class=\"dataframe\">\n",
       "  <thead>\n",
       "    <tr style=\"text-align: right;\">\n",
       "      <th></th>\n",
       "      <th>include</th>\n",
       "    </tr>\n",
       "    <tr>\n",
       "      <th>dish</th>\n",
       "      <th></th>\n",
       "    </tr>\n",
       "  </thead>\n",
       "  <tbody>\n",
       "    <tr>\n",
       "      <th>fried egg</th>\n",
       "      <td>True</td>\n",
       "    </tr>\n",
       "    <tr>\n",
       "      <th>in n out</th>\n",
       "      <td>True</td>\n",
       "    </tr>\n",
       "    <tr>\n",
       "      <th>triple sec</th>\n",
       "      <td>True</td>\n",
       "    </tr>\n",
       "    <tr>\n",
       "      <th>mexican food</th>\n",
       "      <td>True</td>\n",
       "    </tr>\n",
       "    <tr>\n",
       "      <th>service stars</th>\n",
       "      <td>True</td>\n",
       "    </tr>\n",
       "  </tbody>\n",
       "</table>\n",
       "</div>"
      ],
      "text/plain": [
       "               include\n",
       "dish                  \n",
       "fried egg         True\n",
       "in n out          True\n",
       "triple sec        True\n",
       "mexican food      True\n",
       "service stars     True"
      ]
     },
     "execution_count": 8,
     "metadata": {},
     "output_type": "execute_result"
    }
   ],
   "source": [
    "# Print dish list shape and head\n",
    "print(\"---INITIAL---\")\n",
    "print(\"Dish list has shape {} with {:,} dishes to include and {:,} common phrases to exclude as dishes.\".format(\\\n",
    "        dfMexDishes.shape, \\\n",
    "        sum(dfMexDishes.include), \\\n",
    "        sum(~dfMexDishes.include)))\n",
    "dfMexDishes.head(5)"
   ]
  },
  {
   "cell_type": "markdown",
   "metadata": {},
   "source": [
    "## Remove False-Positives\n",
    "\n",
    "I reviewed the list of potential dishes - those frequent phrases tagged with a one - to compile a list of fals-positive phrases to remove. That list included both non-dish phrases and dish names not relevant to Mexican cuisine. I removed nearly all of the potential dishes raising a question that I will explore in detail later, \"With such poor performance from frequent phrases, how else can I use to create a list of Mexican dishes?\""
   ]
  },
  {
   "cell_type": "code",
   "execution_count": 9,
   "metadata": {},
   "outputs": [],
   "source": [
    "# Read dishes to drop for Mexican cuisine\n",
    "wip = pd.read_csv(PATH_SOURCE_MEXICAN_TO_DEL, sep=\"\\t\", \\\n",
    "                  names=[\"dish\", \"include\"], index_col=0)"
   ]
  },
  {
   "cell_type": "code",
   "execution_count": 10,
   "metadata": {},
   "outputs": [],
   "source": [
    "# Removed dishes to drop from dish list\n",
    "dfMexDishes.drop(wip.index, inplace=True)"
   ]
  },
  {
   "cell_type": "code",
   "execution_count": 11,
   "metadata": {},
   "outputs": [
    {
     "name": "stdout",
     "output_type": "stream",
     "text": [
      "---AFTER REMOVING FALSE POSITIVES---\n",
      "Dish list has shape (412, 1) with 15 dishes to include and 397 common phrases to exclude as dishes.\n"
     ]
    }
   ],
   "source": [
    "# Print dish list shape\n",
    "print(\"---AFTER REMOVING FALSE POSITIVES---\")\n",
    "print(\"Dish list has shape {} with {:,} dishes to include and {:,} common phrases to exclude as dishes.\".format(\\\n",
    "        dfMexDishes.shape, \\\n",
    "        sum(dfMexDishes.include), \\\n",
    "        sum(~dfMexDishes.include)))"
   ]
  },
  {
   "cell_type": "markdown",
   "metadata": {},
   "source": [
    "## Flip Indicator for False-Negatives\n",
    "\n",
    "I identified less than ten false-negatives, dish names tagged with a zero, that I correct below."
   ]
  },
  {
   "cell_type": "code",
   "execution_count": 12,
   "metadata": {},
   "outputs": [],
   "source": [
    "# Read dishes flip drop for Mexican cuisine\n",
    "wip = pd.read_csv(PATH_SOURCE_MEXICAN_TO_FLIP, sep=\"\\t\", \\\n",
    "                  names=[\"dish\", \"include\"], index_col=0)"
   ]
  },
  {
   "cell_type": "code",
   "execution_count": 13,
   "metadata": {},
   "outputs": [],
   "source": [
    "# Removed dishes to drop from dish list\n",
    "dfMexDishes.loc[wip.index, \"include\"] = ~dfMexDishes.loc[wip.index, \"include\"]"
   ]
  },
  {
   "cell_type": "code",
   "execution_count": 14,
   "metadata": {},
   "outputs": [
    {
     "name": "stdout",
     "output_type": "stream",
     "text": [
      "---AFTER CORRECTIN FALSE NEGATIVES---\n",
      "Dish list has shape (412, 1) with 21 dishes to include and 391 common phrases to exclude as dishes.\n"
     ]
    }
   ],
   "source": [
    "# Print dish list shape\n",
    "print(\"---AFTER CORRECTIN FALSE NEGATIVES---\")\n",
    "print(\"Dish list has shape {} with {:,} dishes to include and {:,} common phrases to exclude as dishes.\".format(\\\n",
    "        dfMexDishes.shape, \\\n",
    "        sum(dfMexDishes.include), \\\n",
    "        sum(~dfMexDishes.include)))"
   ]
  },
  {
   "cell_type": "markdown",
   "metadata": {},
   "source": [
    "## Add Dishes from Wikipedia\n",
    "\n",
    "Very few of the frequent phrases qualify as Mexican dishes. I therefore sought other sources finding [Wikipedia page for \"List of Mexican dishes\"](https://en.wikipedia.org/wiki/List_of_Mexican_dishes). The [AutoPhrase](https://github.com/shangjingbo1226/AutoPhrase) package - an improved version of [SegPhrase](https://github.com/shangjingbo1226/SegPhrase) - I use later *should* benefit from an expert list of labels. The cleaned list of frequent phrases includes fewer than 25 dish names. I therefore decided to add the list of dishes on Wikipedia."
   ]
  },
  {
   "cell_type": "code",
   "execution_count": 15,
   "metadata": {},
   "outputs": [],
   "source": [
    "# Get Wikipedia page \"List of Mexican dishes\" and parse as HTML\n",
    "wp = wikipediaapi.Wikipedia('en', extract_format=wikipediaapi.ExtractFormat.HTML)\n",
    "wpMexDishesPage = wp.page(\"List_of_Mexican_dishes\")"
   ]
  },
  {
   "cell_type": "code",
   "execution_count": 16,
   "metadata": {},
   "outputs": [],
   "source": [
    "# Define helper function to pretty-print secitons\n",
    "def printSections(sections, level=0):\n",
    "    \"\"\"Pretty-print sections from `wikipediaapi` page.\"\"\"\n",
    "    for i, s in enumerate(sections):\n",
    "        print(\"{}{:d}. {}\".format(\" \" * 4 * level, i, s.title))\n",
    "        printSections(s.sections, level + 1)"
   ]
  },
  {
   "cell_type": "code",
   "execution_count": 17,
   "metadata": {},
   "outputs": [
    {
     "name": "stdout",
     "output_type": "stream",
     "text": [
      "0. Antojitos\n",
      "1. Cheese  dishes\n",
      "2. Egg dishes\n",
      "3. Meat dishes\n",
      "    0. Beef dishes\n",
      "    1. Goat dishes\n",
      "    2. Pork dishes\n",
      "    3. Poultry dishes\n",
      "    4. Other meat and protein dishes\n",
      "4. Moles, sauces, dips and spreads\n",
      "5. Rice dishes\n",
      "6. Seafood dishes\n",
      "7. Soups and stews\n",
      "8. Vegetable dishes\n",
      "9. Desserts and sweets\n",
      "10. Beverages\n",
      "    0. Non-alcoholic\n",
      "    1. Alcoholic\n",
      "11. See also\n",
      "12. References\n",
      "13. External links\n"
     ]
    }
   ],
   "source": [
    "# Examine sections\n",
    "printSections(wpMexDishesPage.sections)"
   ]
  },
  {
   "cell_type": "code",
   "execution_count": 18,
   "metadata": {
    "scrolled": true
   },
   "outputs": [
    {
     "data": {
      "text/plain": [
       "'<p>Street food in Mexico, called <i>antojitos</i> is prepared by street vendors and at small traditional markets in Mexico. Most of them include corn as an ingredient.\\n</p>\\n<ul><li>Aguachile</li>\\n<li>Bolillos (salty bread)</li>\\n<li>Burrito</li>\\n<li>Camote (Mexican sweet potato)</li>\\n<li>Cemitas sandwiches</li>\\n<li>Chalupa</li>\\n<li>Chapulines and escamoles</li>\\n<li>Charales, small fish, basically a type of smelt</li>\\n<li>Chicharrón</li></ul>\\n<ul><li>Chilaquiles</li>\\n<li>Chimichangas (Tex-Mex mostly)</li>\\n<li>Choriqueso</li>\\n<li>Chorizo</li></ul>\\n<ul><li>Cochinita pibil</li>\\n<li>Cocido</li>\\n<li>Cóctel de camarón and other seafood cocktails</li>\\n<li>Corunda</li>\\n<li>Curtido</li>\\n<li>Elote</li>\\n<li>Enchilada (red or green)</li>\\n<li>Enfrijoladas</li>\\n<li>Ensalada de fruta (fruit salad)</li>\\n<li>Entomatadas</li>\\n<li>Fajitas</li>\\n<li>Filete de pescado</li></ul>\\n<ul><li>Flautas</li>\\n<li>Frijoles charros</li>\\n<li>Fritada</li>\\n<li>Gorditas</li>\\n<li>Gringas</li>\\n<li>Huauzontles</li>\\n<li>Huaraches</li>\\n<li>Jicama</li>\\n<li>Jocoque</li>\\n<li>Lengua</li>\\n<li>Lentil soup (lentil beans)</li>\\n<li>Longaniza</li>\\n<li>Machaca</li>\\n<li>Mancha manteles</li>\\n<li>Memela</li></ul>\\n\\n<ul><li>Menudo</li>\\n<li>Mixiotes</li>\\n<li>Mole de olla</li>\\n<li>Mole poblano</li>\\n<li>Molletes</li>\\n<li>Molotes</li>\\n<li>Moronga</li>\\n<li>Nachos</li>\\n<li>Pambazos</li>\\n<li>Panucho</li>\\n<li>Papadzules</li>\\n<li>Parilladas</li>\\n<li>Pastel azteca</li>\\n<li>Pejelagarto</li>\\n<li>Picadillo</li>\\n<li>Quesadillas</li>\\n<li>Queso</li>\\n<li>Rajas con crema</li>\\n<li>Romeritos</li>\\n<li>Salbutes</li>\\n<li>Salsa</li>\\n<li>Sincronizadas</li></ul>\\n<ul><li>Sopes\\n<ul><li>Sopa de albondiga (meatball soup)</li></ul></li></ul>\\n<ul><li>Tacos</li>\\n<li>Taco al pastor</li>\\n<li>Tamales</li>\\n<li>Taquitos</li>\\n<li>Tlacoyos</li>\\n<li>Tlayudas</li>\\n<li>Tortas (sandwiches) - see also small omelettes similar to egg foo yung patties, see also romeritos</li>\\n<li>Tortillas</li>\\n<li>Tostadas</li>\\n<li>Totopo</li>\\n<li>Tripas</li>\\n<li>Venado (venison), particularly in the Yucatan</li>\\n<li>Yuca (cassava)</li></ul>'"
      ]
     },
     "execution_count": 18,
     "metadata": {},
     "output_type": "execute_result"
    }
   ],
   "source": [
    "# Get text from an example section\n",
    "wpMexDishesPage.sections[0].text"
   ]
  },
  {
   "cell_type": "markdown",
   "metadata": {},
   "source": [
    "Each section includes one or more unorder list of dish names. Those dish names includes some unwanted text, usually explanatory, that I remove with the helper function below."
   ]
  },
  {
   "cell_type": "code",
   "execution_count": 19,
   "metadata": {},
   "outputs": [],
   "source": [
    "# Define helper function to get list of dishes from section text\n",
    "def getDishesFromText(sectionText, removeTextAfter=\"[,-]\", wordLimit=3):\n",
    "    \"\"\"Return a list of dish names from section text.\"\"\"\n",
    "    tree = None\n",
    "    \n",
    "    # Create an `lxml` element tree from HTML.\n",
    "    tree = html.fromstring(sectionText)\n",
    "    \n",
    "    # Get dishes from <li> element text\n",
    "    dishes = tree.xpath(\"//li/text()\")\n",
    "    \n",
    "    # Remove parentheticals\n",
    "    dishes = [re.sub(r\"\\(.*?\\)\", \"\", t) for t in dishes]\n",
    "    \n",
    "    # Remove text after passed characters\n",
    "    dishes = [re.sub(\"(?<={}).*$\".format(removeTextAfter), \"\", t) for t in dishes]\n",
    "    \n",
    "    # Trim to word limit\n",
    "    dishes = [\" \".join(re.split(r\"\\W+\", t)[:wordLimit]).strip() for t in dishes]\n",
    "    \n",
    "    # Return list of dishes\n",
    "    return set(dishes)"
   ]
  },
  {
   "cell_type": "code",
   "execution_count": 20,
   "metadata": {},
   "outputs": [],
   "source": [
    "# Define helper function to recursively get dishes from all\n",
    "# sections\n",
    "def getDishesFromSection(section):\n",
    "    \"\"\"Recusively print list of sections from `wikipediaapi` page.\"\"\"\n",
    "#     print(section.title)\n",
    "    if(len(section.sections) == 0):\n",
    "        return getDishesFromText(section.text)\n",
    "    else:\n",
    "        dishes = set()\n",
    "        for s in section.sections:\n",
    "            dishes.update(getDishesFromSection(s))\n",
    "        return dishes"
   ]
  },
  {
   "cell_type": "code",
   "execution_count": 21,
   "metadata": {},
   "outputs": [],
   "source": [
    "# Get Mexican dishes from Wikipedia page \"List of Mexican dishes\"\n",
    "wpMexDishes = set()\n",
    "for section in wpMexDishesPage.sections[:11]:\n",
    "    wpMexDishes.update(getDishesFromSection(section))"
   ]
  },
  {
   "cell_type": "code",
   "execution_count": 22,
   "metadata": {},
   "outputs": [],
   "source": [
    "# Remove empty items and known bad elements then format for\n",
    "# inclusion in common phrases\n",
    "wpMexDishes = [(d.lower(), 1) for d in wpMexDishes \\\n",
    "               if d not in [\"is of\", \"or\", \"\", \"as a\", \"where these\"]]"
   ]
  },
  {
   "cell_type": "code",
   "execution_count": 23,
   "metadata": {},
   "outputs": [],
   "source": [
    "# Convert to dataframe\n",
    "dfMexDishesFromWP = pd.DataFrame(wpMexDishes, columns=[\"dish\", \"include\"])"
   ]
  },
  {
   "cell_type": "code",
   "execution_count": 24,
   "metadata": {},
   "outputs": [],
   "source": [
    "# Make `dish` column the index\n",
    "dfMexDishesFromWP.set_index(\"dish\", inplace=True)"
   ]
  },
  {
   "cell_type": "code",
   "execution_count": 25,
   "metadata": {},
   "outputs": [],
   "source": [
    "# Set `include` column to boolean data type\n",
    "dfMexDishesFromWP.include = dfMexDishesFromWP.include.astype(np.bool_,)"
   ]
  },
  {
   "cell_type": "code",
   "execution_count": 26,
   "metadata": {},
   "outputs": [],
   "source": [
    "# Merge original dish list and Wikipedia dish list then fill\n",
    "# missing values as False\n",
    "dfMexDishes = dfMexDishes.merge(dfMexDishesFromWP, how=\"outer\", \\\n",
    "                                left_index=True, right_index=True, \\\n",
    "                                suffixes=[\"_initial\", \"_from_wp\"])\n",
    "dfMexDishes.fillna(False, inplace=True)"
   ]
  },
  {
   "cell_type": "code",
   "execution_count": 27,
   "metadata": {},
   "outputs": [],
   "source": [
    "# Determine final inclusion from initial list or from Wikipedia\n",
    "dfMexDishes[\"include_combined\"] = dfMexDishes.include_initial | dfMexDishes.include_from_wp"
   ]
  },
  {
   "cell_type": "code",
   "execution_count": 28,
   "metadata": {},
   "outputs": [
    {
     "name": "stdout",
     "output_type": "stream",
     "text": [
      "---FINAL---\n",
      "Found 242 dishes to incldue and 391 common phrases to exclude as dishes.\n"
     ]
    }
   ],
   "source": [
    "# List dishes to include\n",
    "print(\"---FINAL---\")\n",
    "print(\"Found {:,} dishes to incldue and {:,} common phrases to exclude as dishes.\".format(\\\n",
    "        sum(dfMexDishes.include_combined), \\\n",
    "        sum(~dfMexDishes.include_combined)))"
   ]
  },
  {
   "cell_type": "code",
   "execution_count": 29,
   "metadata": {},
   "outputs": [],
   "source": [
    "# Save dish list to working file for read into AutoPhrase\n",
    "includeDishes = dfMexDishes[dfMexDishes.include_combined].index.to_series()\n",
    "includeDishes.to_csv(PATH_WIP_MEXICAN_FINAL, header=False, index=False)"
   ]
  },
  {
   "cell_type": "markdown",
   "metadata": {},
   "source": [
    "# Evaluate Dish List Against Frequent Phrases\n",
    "\n",
    "The \"distant expert\" - a term used by [AutoPhrase](https://github.com/shangjingbo1226/AutoPhrase)'s authors \\[1\\]\\[2\\] - list of Mexican dishes clearly out performed the initial frequent phrase list. However, [AutoPhrase](https://github.com/shangjingbo1226/AutoPhrase) like [SegPhrase](https://github.com/shangjingbo1226/SegPhrase) before it can improve its frequent phrase mining by introducing a list of known good labels. I do not expect it to beat the distant experts but want to evaluate how much it improves."
   ]
  },
  {
   "cell_type": "markdown",
   "metadata": {},
   "source": [
    "## Save Yelp Reviews for Mexican Cuisine to Text Corpus\n",
    "\n",
    "[AutoPhrase](https://github.com/shangjingbo1226/AutoPhrase) is written in Java and provides multiple ways to read a corpus. I chose to save the Yelp review text to a single file with each line representing one review (aka \"document\").\n",
    "\n",
    "**Note:** I cannot run [AutoPhrase](https://github.com/shangjingbo1226/AutoPhrase) within this notebook as it is a Java application. I will imoprt the output and run log for further review."
   ]
  },
  {
   "cell_type": "code",
   "execution_count": 30,
   "metadata": {},
   "outputs": [],
   "source": [
    "# Read saved data\n",
    "dfYelpReviews = pd.read_pickle(PATH_SOURCE_YELP_REVIEWS)\n",
    "dfYelpRestToCuis = pd.read_pickle(PATH_SOURCE_YELP_REST_TO_CUISINES)"
   ]
  },
  {
   "cell_type": "code",
   "execution_count": 31,
   "metadata": {},
   "outputs": [],
   "source": [
    "# Filter restaurants to those tagged with \"Mexican\" category\n",
    "dfYelpRestMexican = dfYelpRestToCuis[dfYelpRestToCuis.categories.apply(\\\n",
    "        lambda cats: \"Mexican\" in cats)]"
   ]
  },
  {
   "cell_type": "code",
   "execution_count": 32,
   "metadata": {},
   "outputs": [],
   "source": [
    "# Join (inner) reviews to restaurants\n",
    "dfYelpReviews = dfYelpReviews.join(dfYelpRestMexican, \\\n",
    "                                   on=\"business_id\", \\\n",
    "                                   how=\"inner\", \\\n",
    "                                   rsuffix=\"_business\")"
   ]
  },
  {
   "cell_type": "code",
   "execution_count": 33,
   "metadata": {},
   "outputs": [
    {
     "name": "stdout",
     "output_type": "stream",
     "text": [
      "Found 70,406 reviews in Yelp data set for Mexican cuisine.\n"
     ]
    }
   ],
   "source": [
    "# Print review shape\n",
    "print(\"Found {:,} reviews in Yelp data set for Mexican cuisine.\".format(\\\n",
    "        dfYelpReviews.shape[0]))"
   ]
  },
  {
   "cell_type": "code",
   "execution_count": 34,
   "metadata": {},
   "outputs": [],
   "source": [
    "# Save review text to working file for read by AutoPhrase\n",
    "dfYelpReviews.text.to_csv(PATH_WIP_YELP_REVIEWS_MEXICAN, \\\n",
    "                          index=False, header=False)"
   ]
  },
  {
   "cell_type": "markdown",
   "metadata": {},
   "source": [
    "## Review AutoPhrase Run Log"
   ]
  },
  {
   "cell_type": "markdown",
   "metadata": {},
   "source": [
    "I ran [AutoPhrase](https://github.com/shangjingbo1226/AutoPhrase) with custom `MODEL`, `RAW_TRAIN`, and `RAW_LABEL_FILE` parameters to train it agains the Yelp reviews for Mexican restaurants and the expert labels. Full command:\n",
    "\n",
    "```bash\n",
    "MODEL='./models/yelp_mexican_dishes' RAW_TRAIN='./wip/yelp_academic_dataset_review_mexican_corpus.txt' RAW_LABEL_FILE='./wip/labels/Mexican_FINAL.label' ./auto_phrase.sh  2>&1 | tee ./models/yelp_mexican_dishes/log.txt\n",
    "```"
   ]
  },
  {
   "cell_type": "code",
   "execution_count": 35,
   "metadata": {},
   "outputs": [
    {
     "name": "stdout",
     "output_type": "stream",
     "text": [
      "\u001b[32m===Compilation===\u001b(B\u001b[m\n",
      "\u001b[32m===Tokenization===\u001b(B\u001b[m\n",
      "Current step: Tokenizing input file...\u001b[0K\n",
      "real\t0m6.207s\n",
      "user\t0m19.266s\n",
      "sys\t0m2.734s\n",
      "Detected Language: EN\u001b[0K\n",
      "Current step: Tokenizing stopword file...\u001b[0K\n",
      "Current step: Tokenizing wikipedia phrases...\u001b[0K\n",
      "Current step: Tokenizing expert labels...\u001b[0K\n",
      "\u001b[32m===Part-Of-Speech Tagging===\u001b(B\u001b[m\n",
      "Current step: Splitting files...\u001b[0K\n",
      "Current step: Tagging...\u001b[0K\n",
      "Current step: Merging...\u001b[0K\n",
      "\u001b[32m===AutoPhrasing===\u001b(B\u001b[m\n",
      "=== Current Settings ===\n",
      "Iterations = 2\n",
      "Minimum Support Threshold = 10\n",
      "Maximum Length Threshold = 6\n",
      "POS-Tagging Mode Enabled\n",
      "Number of threads = 10\n",
      "Labeling Method = DPDN\n",
      "\tAuto labels from knowledge bases\n",
      "\tMax Positive Samples = -1\n",
      "=======\n",
      "Loading data...\n",
      "# of total tokens = 9309127\n",
      "max word token id = 55658\n",
      "# of documents = 258937\n",
      "# of distinct POS tags = 57\n",
      "Mining frequent phrases...\n",
      "selected MAGIC = 55661\n",
      "# of frequent phrases = 130895\n",
      "Extracting features...\n",
      "Constructing label pools...\n",
      "\tThe size of the positive pool = 6660\n",
      "\tThe size of the negative pool = 123532\n",
      "# truth patterns = 96452\n",
      "Estimating Phrase Quality...\n",
      "Segmenting...\n",
      "Rectifying features...\n",
      "Estimating Phrase Quality...\n",
      "Segmenting...\n",
      "Dumping results...\n",
      "Done.\n",
      "\n",
      "real\t0m40.696s\n",
      "user\t2m0.406s\n",
      "sys\t0m9.047s\n",
      "\u001b[32m===Saving Model and Results===\u001b(B\u001b[m\n",
      "\u001b[32m===Generating Output===\u001b(B\u001b[m\n",
      "\n"
     ]
    }
   ],
   "source": [
    "# Print AutoPhrase log file\n",
    "with open(AUTOPHRASE_LOG, \"r\") as f:\n",
    "    print(f.read())"
   ]
  },
  {
   "cell_type": "markdown",
   "metadata": {},
   "source": [
    "## Compare AutoPhrase to Expert Labels"
   ]
  },
  {
   "cell_type": "code",
   "execution_count": 36,
   "metadata": {},
   "outputs": [],
   "source": [
    "# Read AutoPhrase frequent phrases into dataframe\n",
    "dfPhrases = pd.read_csv(AUTOPHRASE_RESULTS, sep=\"\\t\", \\\n",
    "                        names=[\"score\", \"dish\"], index_col=\"dish\")"
   ]
  },
  {
   "cell_type": "code",
   "execution_count": 37,
   "metadata": {},
   "outputs": [
    {
     "name": "stdout",
     "output_type": "stream",
     "text": [
      "---AUTOPHRASE WITH EXPERT LABELS---\n",
      "Found 62,259 frequent phrases with scores ranging from 0.9866 to 0.0025.\n"
     ]
    },
    {
     "data": {
      "text/html": [
       "<div>\n",
       "<style scoped>\n",
       "    .dataframe tbody tr th:only-of-type {\n",
       "        vertical-align: middle;\n",
       "    }\n",
       "\n",
       "    .dataframe tbody tr th {\n",
       "        vertical-align: top;\n",
       "    }\n",
       "\n",
       "    .dataframe thead th {\n",
       "        text-align: right;\n",
       "    }\n",
       "</style>\n",
       "<table border=\"1\" class=\"dataframe\">\n",
       "  <thead>\n",
       "    <tr style=\"text-align: right;\">\n",
       "      <th></th>\n",
       "      <th>score</th>\n",
       "    </tr>\n",
       "    <tr>\n",
       "      <th>dish</th>\n",
       "      <th></th>\n",
       "    </tr>\n",
       "  </thead>\n",
       "  <tbody>\n",
       "    <tr>\n",
       "      <th>fort apache</th>\n",
       "      <td>0.986563</td>\n",
       "    </tr>\n",
       "    <tr>\n",
       "      <th>crescent ballroom</th>\n",
       "      <td>0.986338</td>\n",
       "    </tr>\n",
       "    <tr>\n",
       "      <th>sin city</th>\n",
       "      <td>0.985787</td>\n",
       "    </tr>\n",
       "    <tr>\n",
       "      <th>tivoli village</th>\n",
       "      <td>0.985641</td>\n",
       "    </tr>\n",
       "    <tr>\n",
       "      <th>sky harbor</th>\n",
       "      <td>0.985629</td>\n",
       "    </tr>\n",
       "  </tbody>\n",
       "</table>\n",
       "</div>"
      ],
      "text/plain": [
       "                      score\n",
       "dish                       \n",
       "fort apache        0.986563\n",
       "crescent ballroom  0.986338\n",
       "sin city           0.985787\n",
       "tivoli village     0.985641\n",
       "sky harbor         0.985629"
      ]
     },
     "execution_count": 37,
     "metadata": {},
     "output_type": "execute_result"
    }
   ],
   "source": [
    "# Print dish list shape and head\n",
    "print(\"---AUTOPHRASE WITH EXPERT LABELS---\")\n",
    "print(\"Found {:,} frequent phrases with scores ranging from {:.4f} to {:.4f}.\".format(\\\n",
    "        dfPhrases.shape[0], \\\n",
    "        max(dfPhrases.score), \\\n",
    "        min(dfPhrases.score)))\n",
    "dfPhrases.head(5)"
   ]
  },
  {
   "cell_type": "markdown",
   "metadata": {},
   "source": [
    "**Not an impressive result** for the most frequent phrases. Perhaps the expert labels still have high scores."
   ]
  },
  {
   "cell_type": "code",
   "execution_count": 38,
   "metadata": {},
   "outputs": [],
   "source": [
    "# Create expert dish, frequent phrase, interestion, and \n",
    "# difference sets\n",
    "dishes = set(dfMexDishes[dfMexDishes.include_combined].index)\n",
    "phrases = set(dfPhrases.index)\n",
    "dishesInPhrases = dishes.intersection(phrases)\n",
    "dishesNotInPhrases = dishes.difference(phrases)"
   ]
  },
  {
   "cell_type": "code",
   "execution_count": 39,
   "metadata": {},
   "outputs": [
    {
     "data": {
      "text/html": [
       "<div>\n",
       "<style scoped>\n",
       "    .dataframe tbody tr th:only-of-type {\n",
       "        vertical-align: middle;\n",
       "    }\n",
       "\n",
       "    .dataframe tbody tr th {\n",
       "        vertical-align: top;\n",
       "    }\n",
       "\n",
       "    .dataframe thead th {\n",
       "        text-align: right;\n",
       "    }\n",
       "</style>\n",
       "<table border=\"1\" class=\"dataframe\">\n",
       "  <thead>\n",
       "    <tr style=\"text-align: right;\">\n",
       "      <th></th>\n",
       "      <th>score</th>\n",
       "    </tr>\n",
       "    <tr>\n",
       "      <th>dish</th>\n",
       "      <th></th>\n",
       "    </tr>\n",
       "  </thead>\n",
       "  <tbody>\n",
       "    <tr>\n",
       "      <th>pollo asado</th>\n",
       "      <td>0.975782</td>\n",
       "    </tr>\n",
       "    <tr>\n",
       "      <th>noodle soup</th>\n",
       "      <td>0.965598</td>\n",
       "    </tr>\n",
       "    <tr>\n",
       "      <th>mashed potatoes</th>\n",
       "      <td>0.963162</td>\n",
       "    </tr>\n",
       "    <tr>\n",
       "      <th>pot roast</th>\n",
       "      <td>0.962596</td>\n",
       "    </tr>\n",
       "    <tr>\n",
       "      <th>cochinita pibil</th>\n",
       "      <td>0.961179</td>\n",
       "    </tr>\n",
       "    <tr>\n",
       "      <th>huevos rancheros</th>\n",
       "      <td>0.960683</td>\n",
       "    </tr>\n",
       "    <tr>\n",
       "      <th>aguas frescas</th>\n",
       "      <td>0.959153</td>\n",
       "    </tr>\n",
       "    <tr>\n",
       "      <th>chiles en nogada</th>\n",
       "      <td>0.956810</td>\n",
       "    </tr>\n",
       "    <tr>\n",
       "      <th>mole poblano</th>\n",
       "      <td>0.951019</td>\n",
       "    </tr>\n",
       "    <tr>\n",
       "      <th>tortilla soup</th>\n",
       "      <td>0.945730</td>\n",
       "    </tr>\n",
       "  </tbody>\n",
       "</table>\n",
       "</div>"
      ],
      "text/plain": [
       "                     score\n",
       "dish                      \n",
       "pollo asado       0.975782\n",
       "noodle soup       0.965598\n",
       "mashed potatoes   0.963162\n",
       "pot roast         0.962596\n",
       "cochinita pibil   0.961179\n",
       "huevos rancheros  0.960683\n",
       "aguas frescas     0.959153\n",
       "chiles en nogada  0.956810\n",
       "mole poblano      0.951019\n",
       "tortilla soup     0.945730"
      ]
     },
     "execution_count": 39,
     "metadata": {},
     "output_type": "execute_result"
    }
   ],
   "source": [
    "# List top-10 dishes in frequent phrases\n",
    "dfPhrases.loc[dishesInPhrases].sort_values(\"score\", ascending=False).head(10)"
   ]
  },
  {
   "cell_type": "markdown",
   "metadata": {},
   "source": [
    "Many of the expertly labeled dishes score highly with AutoPhrase."
   ]
  },
  {
   "cell_type": "code",
   "execution_count": 40,
   "metadata": {},
   "outputs": [
    {
     "data": {
      "text/html": [
       "<div>\n",
       "<style scoped>\n",
       "    .dataframe tbody tr th:only-of-type {\n",
       "        vertical-align: middle;\n",
       "    }\n",
       "\n",
       "    .dataframe tbody tr th {\n",
       "        vertical-align: top;\n",
       "    }\n",
       "\n",
       "    .dataframe thead th {\n",
       "        text-align: right;\n",
       "    }\n",
       "</style>\n",
       "<table border=\"1\" class=\"dataframe\">\n",
       "  <thead>\n",
       "    <tr style=\"text-align: right;\">\n",
       "      <th></th>\n",
       "      <th>score</th>\n",
       "    </tr>\n",
       "    <tr>\n",
       "      <th>dish</th>\n",
       "      <th></th>\n",
       "    </tr>\n",
       "  </thead>\n",
       "  <tbody>\n",
       "    <tr>\n",
       "      <th>tostadas</th>\n",
       "      <td>0.594016</td>\n",
       "    </tr>\n",
       "    <tr>\n",
       "      <th>chalupa</th>\n",
       "      <td>0.591957</td>\n",
       "    </tr>\n",
       "    <tr>\n",
       "      <th>mezcal</th>\n",
       "      <td>0.590889</td>\n",
       "    </tr>\n",
       "    <tr>\n",
       "      <th>bistec</th>\n",
       "      <td>0.588662</td>\n",
       "    </tr>\n",
       "    <tr>\n",
       "      <th>tortillas</th>\n",
       "      <td>0.575958</td>\n",
       "    </tr>\n",
       "    <tr>\n",
       "      <th>fideos</th>\n",
       "      <td>0.574822</td>\n",
       "    </tr>\n",
       "    <tr>\n",
       "      <th>chips and salsa</th>\n",
       "      <td>0.549521</td>\n",
       "    </tr>\n",
       "    <tr>\n",
       "      <th>carnitas bowl</th>\n",
       "      <td>0.425216</td>\n",
       "    </tr>\n",
       "    <tr>\n",
       "      <th>mole chicken</th>\n",
       "      <td>0.381411</td>\n",
       "    </tr>\n",
       "    <tr>\n",
       "      <th>shrimp soup</th>\n",
       "      <td>0.340806</td>\n",
       "    </tr>\n",
       "  </tbody>\n",
       "</table>\n",
       "</div>"
      ],
      "text/plain": [
       "                    score\n",
       "dish                     \n",
       "tostadas         0.594016\n",
       "chalupa          0.591957\n",
       "mezcal           0.590889\n",
       "bistec           0.588662\n",
       "tortillas        0.575958\n",
       "fideos           0.574822\n",
       "chips and salsa  0.549521\n",
       "carnitas bowl    0.425216\n",
       "mole chicken     0.381411\n",
       "shrimp soup      0.340806"
      ]
     },
     "execution_count": 40,
     "metadata": {},
     "output_type": "execute_result"
    }
   ],
   "source": [
    "# List bottom-10 dishes in frequent phrases\n",
    "dfPhrases.loc[dishesInPhrases].sort_values(\"score\", ascending=False).tail(10)"
   ]
  },
  {
   "cell_type": "markdown",
   "metadata": {},
   "source": [
    "Some dishes score poorly though the overall distribution looks promising. The high number of dishes with > 0.9 scores suggests exploring that range might yield even more dish names."
   ]
  },
  {
   "cell_type": "code",
   "execution_count": 41,
   "metadata": {},
   "outputs": [
    {
     "data": {
      "image/png": "[encoded data removed]",
      "text/plain": [
       "<Figure size 432x288 with 1 Axes>"
      ]
     },
     "metadata": {
      "needs_background": "light"
     },
     "output_type": "display_data"
    }
   ],
   "source": [
    "# Plot scores with \n",
    "_, _, _ = plot.hist(dfPhrases.loc[dishesInPhrases, \"score\"])\n",
    "# plot.yscale(\"log\", nonposy=\"clip\")\n",
    "plot.ylabel(\"Number of Dishes\")\n",
    "plot.title(\"Scores with Expert Labels\")\n",
    "plot.grid(True)\n",
    "plot.show()"
   ]
  },
  {
   "cell_type": "code",
   "execution_count": 42,
   "metadata": {},
   "outputs": [
    {
     "name": "stdout",
     "output_type": "stream",
     "text": [
      "AutoPhrase missed 148 dishes from expert labels. Examples:\n",
      "['cóctel de camarón', 'mixiotes', 'salbutes', 'birria a spicy', 'cocadas', 'plátano frito', 'sotol', 'mangonada', 'salsa chipotle', 'arroz rojo']\n"
     ]
    }
   ],
   "source": [
    "# List missed dishes\n",
    "print(\"AutoPhrase missed {:,} dishes from expert labels. Examples:\".format(len(dishesNotInPhrases)))\n",
    "print(list(dishesNotInPhrases)[:10])"
   ]
  },
  {
   "cell_type": "markdown",
   "metadata": {},
   "source": [
    "Nearly half of the expert labels did not get mined as frequent phrases. Some have non-Roman characters like the \"â\" in \"tubâ\". Others - using my personal experience - are not common dishes so might not have appeared in Yelp reviews."
   ]
  },
  {
   "cell_type": "markdown",
   "metadata": {},
   "source": [
    "## Compare Blind AutoPhrase\n",
    "\n",
    "I rate the [AutoPhrase](https://github.com/shangjingbo1226/AutoPhrase) moderate for minigh dish names with the inclusion of expert labels. The frequent phrases include Mexican dishes, even those not in the expert labels. However, the `dish:not-dish` ratio is poor enough to require human review for final dish identification.\n",
    "\n",
    "Human experts already compiled the expert labels. Was that worth the effort to improve [AutoPhrase](https://github.com/shangjingbo1226/AutoPhrase)'s results? I ran the mining algorithm again *without* expert labels for comparison."
   ]
  },
  {
   "cell_type": "code",
   "execution_count": 43,
   "metadata": {},
   "outputs": [],
   "source": [
    "# Read AutoPhrase frequent phrases wihtou expert labels\n",
    "# into dataframe\n",
    "dfPhrasesBlind = pd.read_csv(AUTOPHRASE_RESULTS_BLIND, sep=\"\\t\", \\\n",
    "                             names=[\"score\", \"dish\"], index_col=\"dish\")"
   ]
  },
  {
   "cell_type": "code",
   "execution_count": 44,
   "metadata": {},
   "outputs": [
    {
     "name": "stdout",
     "output_type": "stream",
     "text": [
      "---AUTOPHRASE WITHOUT EXPERT LABELS---\n",
      "Found 61,567 frequent phrases with scores ranging from 0.9873 to 0.0028.\n"
     ]
    },
    {
     "data": {
      "text/html": [
       "<div>\n",
       "<style scoped>\n",
       "    .dataframe tbody tr th:only-of-type {\n",
       "        vertical-align: middle;\n",
       "    }\n",
       "\n",
       "    .dataframe tbody tr th {\n",
       "        vertical-align: top;\n",
       "    }\n",
       "\n",
       "    .dataframe thead th {\n",
       "        text-align: right;\n",
       "    }\n",
       "</style>\n",
       "<table border=\"1\" class=\"dataframe\">\n",
       "  <thead>\n",
       "    <tr style=\"text-align: right;\">\n",
       "      <th></th>\n",
       "      <th>score</th>\n",
       "    </tr>\n",
       "    <tr>\n",
       "      <th>dish</th>\n",
       "      <th></th>\n",
       "    </tr>\n",
       "  </thead>\n",
       "  <tbody>\n",
       "    <tr>\n",
       "      <th>trader joe's</th>\n",
       "      <td>0.987336</td>\n",
       "    </tr>\n",
       "    <tr>\n",
       "      <th>passion fruit</th>\n",
       "      <td>0.984734</td>\n",
       "    </tr>\n",
       "    <tr>\n",
       "      <th>crab cakes</th>\n",
       "      <td>0.984556</td>\n",
       "    </tr>\n",
       "    <tr>\n",
       "      <th>modelo especial</th>\n",
       "      <td>0.984538</td>\n",
       "    </tr>\n",
       "    <tr>\n",
       "      <th>casa grande</th>\n",
       "      <td>0.984535</td>\n",
       "    </tr>\n",
       "  </tbody>\n",
       "</table>\n",
       "</div>"
      ],
      "text/plain": [
       "                    score\n",
       "dish                     \n",
       "trader joe's     0.987336\n",
       "passion fruit    0.984734\n",
       "crab cakes       0.984556\n",
       "modelo especial  0.984538\n",
       "casa grande      0.984535"
      ]
     },
     "execution_count": 44,
     "metadata": {},
     "output_type": "execute_result"
    }
   ],
   "source": [
    "# Print dish list shape and head\n",
    "print(\"---AUTOPHRASE WITHOUT EXPERT LABELS---\")\n",
    "print(\"Found {:,} frequent phrases with scores ranging from {:.4f} to {:.4f}.\".format(\\\n",
    "        dfPhrasesBlind.shape[0], \\\n",
    "        max(dfPhrasesBlind.score), \\\n",
    "        min(dfPhrasesBlind.score)))\n",
    "dfPhrasesBlind.head(5)"
   ]
  },
  {
   "cell_type": "markdown",
   "metadata": {},
   "source": [
    "Interestingly the top-scored phrases appear more food related *without* expert labels than with them. One dish - though not strictly a Mexican dish - even appears in the top five."
   ]
  },
  {
   "cell_type": "code",
   "execution_count": 45,
   "metadata": {},
   "outputs": [],
   "source": [
    "# Merge with expert label results\n",
    "dfPhrases = dfPhrases.merge(dfPhrasesBlind, left_index=True, \\\n",
    "                            right_index=True, suffixes=[\"_expert\", \"_blind\"])"
   ]
  },
  {
   "cell_type": "code",
   "execution_count": 46,
   "metadata": {},
   "outputs": [],
   "source": [
    "# Re-create expert dish, frequent phrase, interestion, and \n",
    "# difference sets\n",
    "dishes = set(dfMexDishes[dfMexDishes.include_combined].index)\n",
    "phrases = set(dfPhrases.index)\n",
    "dishesInPhrases = dishes.intersection(phrases)\n",
    "dishesNotInPhrases = dishes.difference(phrases)"
   ]
  },
  {
   "cell_type": "code",
   "execution_count": 47,
   "metadata": {},
   "outputs": [
    {
     "data": {
      "text/html": [
       "<div>\n",
       "<style scoped>\n",
       "    .dataframe tbody tr th:only-of-type {\n",
       "        vertical-align: middle;\n",
       "    }\n",
       "\n",
       "    .dataframe tbody tr th {\n",
       "        vertical-align: top;\n",
       "    }\n",
       "\n",
       "    .dataframe thead th {\n",
       "        text-align: right;\n",
       "    }\n",
       "</style>\n",
       "<table border=\"1\" class=\"dataframe\">\n",
       "  <thead>\n",
       "    <tr style=\"text-align: right;\">\n",
       "      <th></th>\n",
       "      <th>score_expert</th>\n",
       "      <th>score_blind</th>\n",
       "    </tr>\n",
       "    <tr>\n",
       "      <th>dish</th>\n",
       "      <th></th>\n",
       "      <th></th>\n",
       "    </tr>\n",
       "  </thead>\n",
       "  <tbody>\n",
       "    <tr>\n",
       "      <th>cochinita pibil</th>\n",
       "      <td>0.961179</td>\n",
       "      <td>0.974011</td>\n",
       "    </tr>\n",
       "    <tr>\n",
       "      <th>mashed potatoes</th>\n",
       "      <td>0.963162</td>\n",
       "      <td>0.967911</td>\n",
       "    </tr>\n",
       "    <tr>\n",
       "      <th>pot roast</th>\n",
       "      <td>0.962596</td>\n",
       "      <td>0.967622</td>\n",
       "    </tr>\n",
       "    <tr>\n",
       "      <th>pollo asado</th>\n",
       "      <td>0.975782</td>\n",
       "      <td>0.966919</td>\n",
       "    </tr>\n",
       "    <tr>\n",
       "      <th>noodle soup</th>\n",
       "      <td>0.965598</td>\n",
       "      <td>0.966308</td>\n",
       "    </tr>\n",
       "    <tr>\n",
       "      <th>mole poblano</th>\n",
       "      <td>0.951019</td>\n",
       "      <td>0.965613</td>\n",
       "    </tr>\n",
       "    <tr>\n",
       "      <th>huevos rancheros</th>\n",
       "      <td>0.960683</td>\n",
       "      <td>0.964055</td>\n",
       "    </tr>\n",
       "    <tr>\n",
       "      <th>aguas frescas</th>\n",
       "      <td>0.959153</td>\n",
       "      <td>0.961809</td>\n",
       "    </tr>\n",
       "    <tr>\n",
       "      <th>chiles en nogada</th>\n",
       "      <td>0.956810</td>\n",
       "      <td>0.957931</td>\n",
       "    </tr>\n",
       "    <tr>\n",
       "      <th>tortilla soup</th>\n",
       "      <td>0.945730</td>\n",
       "      <td>0.948059</td>\n",
       "    </tr>\n",
       "  </tbody>\n",
       "</table>\n",
       "</div>"
      ],
      "text/plain": [
       "                  score_expert  score_blind\n",
       "dish                                       \n",
       "cochinita pibil       0.961179     0.974011\n",
       "mashed potatoes       0.963162     0.967911\n",
       "pot roast             0.962596     0.967622\n",
       "pollo asado           0.975782     0.966919\n",
       "noodle soup           0.965598     0.966308\n",
       "mole poblano          0.951019     0.965613\n",
       "huevos rancheros      0.960683     0.964055\n",
       "aguas frescas         0.959153     0.961809\n",
       "chiles en nogada      0.956810     0.957931\n",
       "tortilla soup         0.945730     0.948059"
      ]
     },
     "execution_count": 47,
     "metadata": {},
     "output_type": "execute_result"
    }
   ],
   "source": [
    "# List top-10 dishes in frequent phrases\n",
    "dfPhrases.loc[dishesInPhrases].sort_values(\"score_blind\", \\\n",
    "                                           ascending=False).head(10)"
   ]
  },
  {
   "cell_type": "markdown",
   "metadata": {},
   "source": [
    "The top-ten scores for expert labeled dishes changes slightly."
   ]
  },
  {
   "cell_type": "code",
   "execution_count": 48,
   "metadata": {},
   "outputs": [],
   "source": [
    "# Calculate score improvement. Assume 0 score for NaN.\n",
    "dfPhrases.fillna(0, inplace=True)\n",
    "dfPhrases[\"improvement\"] = dfPhrases.score_expert - dfPhrases.score_blind"
   ]
  },
  {
   "cell_type": "code",
   "execution_count": 49,
   "metadata": {},
   "outputs": [
    {
     "data": {
      "image/png": "[encoded data removed]",
      "text/plain": [
       "<Figure size 432x288 with 1 Axes>"
      ]
     },
     "metadata": {
      "needs_background": "light"
     },
     "output_type": "display_data"
    }
   ],
   "source": [
    "# Plot score improvement with \n",
    "_, _, _ = plot.hist(dfPhrases.improvement)\n",
    "plot.yscale(\"log\", nonposy=\"clip\")\n",
    "plot.ylabel(\"Number of Dishes\")\n",
    "plot.title(\"Score Improvements with Expert Labels\")\n",
    "plot.grid(True)\n",
    "plot.show()"
   ]
  },
  {
   "cell_type": "markdown",
   "metadata": {},
   "source": [
    "The with-expert and without-expert scores vary little. Note the above graph uses a log-10 scale on the y-axis. A linear scale resulted in a single peak for scores differing by less than 0.05."
   ]
  },
  {
   "cell_type": "markdown",
   "metadata": {},
   "source": [
    "# Conclusions\n",
    "\n",
    "Frequent phrase mining from Yelp reviews can provide a useful candidate list of dish names for a cuisine. That candidate list will include more false-positives than true-positives by at least an order of magnitude. Human review is required and recommended for *after* mining frequent phrases. Feeding expertly labeled dishes into the mining process does not improve it enough to warrant the time invested."
   ]
  },
  {
   "cell_type": "markdown",
   "metadata": {},
   "source": [
    "# AutoPhrase Publications\n",
    "\n",
    "[AutoPhrase](https://github.com/shangjingbo1226/AutoPhrase) arose form the contributions of two publications:\n",
    "\n",
    "1. Jingbo Shang, Jialu Liu, Meng Jiang, Xiang Ren, Clare R Voss, Jiawei Han, \"[Automated Phrase Mining from Massive Text Corpora](https://arxiv.org/abs/1702.04457)\", accepted by IEEE Transactions on Knowledge and Data Engineering, Feb. 2018.\n",
    "2. Jialu Liu*, Jingbo Shang*, Chi Wang, Xiang Ren and Jiawei Han, \"[Mining Quality Phrases from Massive Text Corpora](http://hanj.cs.illinois.edu/pdf/sigmod15_jliu.pdf)”, Proc. of 2015 ACM SIGMOD Int. Conf. on Management of Data (SIGMOD'15), Melbourne, Australia, May 2015. (* equally contributed, [slides](https://www.microsoft.com/en-us/research/wp-content/uploads/2016/02/sigmod15SegPhrase.pdf))"
   ]
  }
 ],
 "metadata": {
  "kernelspec": {
   "display_name": "Python 3",
   "language": "python",
   "name": "python3"
  },
  "language_info": {
   "codemirror_mode": {
    "name": "ipython",
    "version": 3
   },
   "file_extension": ".py",
   "mimetype": "text/x-python",
   "name": "python",
   "nbconvert_exporter": "python",
   "pygments_lexer": "ipython3",
   "version": "3.7.0"
  }
 },
 "nbformat": 4,
 "nbformat_minor": 2
}
